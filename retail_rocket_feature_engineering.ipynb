{
  "nbformat": 4,
  "nbformat_minor": 5,
  "metadata": {
    "colab": {
      "provenance": [],
      "include_colab_link": true
    },
    "language_info": {
      "name": "python"
    },
    "kernelspec": {
      "name": "python3",
      "display_name": "Python 3"
    }
  },
  "cells": [
    {
      "cell_type": "markdown",
      "metadata": {
        "id": "view-in-github",
        "colab_type": "text"
      },
      "source": [
        "<a href=\"https://colab.research.google.com/github/LAworkspace/retail-recommender-MLOPS/blob/main/retail_rocket_feature_engineering.ipynb\" target=\"_parent\"><img src=\"https://colab.research.google.com/assets/colab-badge.svg\" alt=\"Open In Colab\"/></a>"
      ]
    },
    {
      "id": "c7e86ea3",
      "cell_type": "markdown",
      "source": [
        "# 🧠 Retail Rocket Dynamic Pricing: Feature Engineering Notebook\n",
        "\n",
        "**Sections Covered:**\n",
        "- 🧱 Section 1: Load & Preprocess Raw Data\n",
        "- 📊 Section 2: Feature Engineering\n",
        "\n",
        "📦 Dataset: [Retail Rocket E-commerce Dataset](https://www.kaggle.com/datasets/retailrocket/ecommerce-dataset)\n",
        "\n",
        "🔧 Libraries used: `pandas`, `polars`, `datetime`, `numpy`\n"
      ],
      "metadata": {
        "id": "c7e86ea3"
      }
    },
    {
      "id": "aeade12c",
      "cell_type": "code",
      "metadata": {
        "colab": {
          "base_uri": "https://localhost:8080/"
        },
        "id": "aeade12c",
        "outputId": "3507c85b-7097-4129-a05d-5961121b6cfe"
      },
      "execution_count": 1,
      "source": [
        "!pip install polars pandas"
      ],
      "outputs": [
        {
          "output_type": "stream",
          "name": "stdout",
          "text": [
            "Requirement already satisfied: polars in /usr/local/lib/python3.11/dist-packages (1.25.0)\n",
            "Requirement already satisfied: pandas in /usr/local/lib/python3.11/dist-packages (2.2.2)\n",
            "Requirement already satisfied: numpy>=1.23.2 in /usr/local/lib/python3.11/dist-packages (from pandas) (2.0.2)\n",
            "Requirement already satisfied: python-dateutil>=2.8.2 in /usr/local/lib/python3.11/dist-packages (from pandas) (2.9.0.post0)\n",
            "Requirement already satisfied: pytz>=2020.1 in /usr/local/lib/python3.11/dist-packages (from pandas) (2025.2)\n",
            "Requirement already satisfied: tzdata>=2022.7 in /usr/local/lib/python3.11/dist-packages (from pandas) (2025.2)\n",
            "Requirement already satisfied: six>=1.5 in /usr/local/lib/python3.11/dist-packages (from python-dateutil>=2.8.2->pandas) (1.17.0)\n"
          ]
        }
      ]
    },
    {
      "id": "5c411622",
      "cell_type": "code",
      "metadata": {
        "id": "5c411622"
      },
      "execution_count": 2,
      "source": [
        "import pandas as pd\n",
        "import polars as pl\n",
        "import numpy as np\n",
        "from datetime import datetime, timedelta\n",
        "import os\n",
        "import matplotlib.pyplot as plt\n",
        "from tqdm import tqdm\n",
        "tqdm.pandas()"
      ],
      "outputs": []
    },
    {
      "id": "2a13ece3",
      "cell_type": "markdown",
      "source": [
        "## 🧱 Section 1: Load & Preprocess Raw Data"
      ],
      "metadata": {
        "id": "2a13ece3"
      }
    },
    {
      "cell_type": "code",
      "source": [
        "# Define schema to ensure correct parsing\n",
        "schema = {\n",
        "    'timestamp': pl.Int64,\n",
        "    'itemid': pl.Int64,\n",
        "    'property': pl.Utf8,\n",
        "    'value': pl.Utf8,\n",
        "}\n",
        "\n",
        "# Load both parts with ragged line handling\n",
        "item_props1 = pl.read_csv('/content/item_properties_part1.csv', schema=schema, truncate_ragged_lines=True)\n",
        "item_props2 = pl.read_csv('/content/item_properties_part2.csv', schema=schema, truncate_ragged_lines=True)\n",
        "\n",
        "# Merge and convert to pandas\n",
        "item_properties = pl.concat([item_props1, item_props2]).to_pandas()\n",
        "\n",
        "# Load events\n",
        "events = pd.read_csv('/content/events.csv')\n"
      ],
      "metadata": {
        "id": "oO0p8gfdgb7v"
      },
      "id": "oO0p8gfdgb7v",
      "execution_count": 3,
      "outputs": []
    },
    {
      "cell_type": "code",
      "source": [
        "# Convert timestamps from ms to datetime\n",
        "events['timestamp'] = pd.to_datetime(events['timestamp'], unit='ms')\n",
        "events['timestamp_hour'] = events['timestamp'].dt.floor('h')\n",
        "\n",
        "item_properties['timestamp'] = pd.to_datetime(item_properties['timestamp'], unit='ms')\n",
        "item_properties['timestamp_hour'] = item_properties['timestamp'].dt.floor('h')\n"
      ],
      "metadata": {
        "id": "SG5sdSH4goyp"
      },
      "id": "SG5sdSH4goyp",
      "execution_count": 4,
      "outputs": []
    },
    {
      "cell_type": "code",
      "source": [
        "# Separate by event type\n",
        "views = events[events['event'] == 'view']\n",
        "carts = events[events['event'] == 'addtocart']\n",
        "purchases = events[events['event'] == 'transaction']\n",
        "\n",
        "# Group by item + hour\n",
        "views_agg = views.groupby(['itemid', 'timestamp_hour']).size().reset_index(name='views')\n",
        "carts_agg = carts.groupby(['itemid', 'timestamp_hour']).size().reset_index(name='carts')\n",
        "purchases_agg = purchases.groupby(['itemid', 'timestamp_hour']).size().reset_index(name='purchases')\n"
      ],
      "metadata": {
        "id": "cjdY-hNSgt0h"
      },
      "id": "cjdY-hNSgt0h",
      "execution_count": 5,
      "outputs": []
    },
    {
      "cell_type": "code",
      "source": [
        "# Merge and fill missing values\n",
        "agg_df = views_agg.merge(carts_agg, on=['itemid', 'timestamp_hour'], how='left')\n",
        "agg_df = agg_df.merge(purchases_agg, on=['itemid', 'timestamp_hour'], how='left')\n",
        "agg_df[['carts', 'purchases']] = agg_df[['carts', 'purchases']].fillna(0)\n",
        "\n",
        "# Compute conversion metrics\n",
        "agg_df['cart_conversion_rate'] = agg_df['carts'] / agg_df['views']\n",
        "agg_df['purchase_conversion_rate'] = agg_df['purchases'] / agg_df['views']\n"
      ],
      "metadata": {
        "id": "98YcjIT9gyuo"
      },
      "id": "98YcjIT9gyuo",
      "execution_count": 6,
      "outputs": []
    },
    {
      "cell_type": "code",
      "source": [
        "import polars as pl\n",
        "\n",
        "# Load both CSVs\n",
        "part1 = pl.read_csv(\"/content/item_properties_part1.csv\", has_header=True)\n",
        "part2 = pl.read_csv(\"/content/item_properties_part2.csv\", has_header=True)\n",
        "\n",
        "# Make sure both have the same column names\n",
        "part1.columns = ['timestamp', 'itemid', 'property', 'value']\n",
        "part2.columns = ['timestamp', 'itemid', 'property', 'value']\n",
        "\n",
        "# Concatenate them\n",
        "item_properties = pl.concat([part1, part2])\n",
        "\n"
      ],
      "metadata": {
        "id": "YNGvQ64Ug4cA"
      },
      "id": "YNGvQ64Ug4cA",
      "execution_count": 7,
      "outputs": []
    },
    {
      "cell_type": "code",
      "source": [
        "item_properties = item_properties.with_columns([\n",
        "    pl.col(\"timestamp\").cast(pl.Datetime(\"ms\")).alias(\"timestamp_hour\")\n",
        "])\n"
      ],
      "metadata": {
        "id": "TA67N28NhPJH"
      },
      "id": "TA67N28NhPJH",
      "execution_count": 8,
      "outputs": []
    },
    {
      "cell_type": "code",
      "source": [
        "import polars as pl\n",
        "\n",
        "# Load the item properties file (if not already loaded)\n",
        "item_props1 = pl.read_csv(\"/content/item_properties_part1.csv\")\n",
        "item_props2 = pl.read_csv(\"/content/item_properties_part2.csv\")\n",
        "\n",
        "# Merge both parts\n",
        "item_properties = pl.concat([item_props1, item_props2])\n",
        "\n",
        "# Ensure timestamp is in datetime format\n",
        "item_properties = item_properties.with_columns([\n",
        "    pl.col(\"timestamp\").cast(pl.Datetime(time_unit=\"ms\"))\n",
        "])\n",
        "\n",
        "# Optional: filter only relevant properties\n",
        "relevant_props = [\"categoryid\", \"brand\", \"price\"]\n",
        "item_properties = item_properties.filter(pl.col(\"property\").is_in(relevant_props))\n",
        "\n",
        "# Get the latest value for each item-property pair\n",
        "latest_values = (\n",
        "    item_properties.sort(\"timestamp\")  # sort so latest comes last\n",
        "    .group_by([\"itemid\", \"property\"])\n",
        "    .agg(pl.last(\"value\").alias(\"latest_value\"))\n",
        ")\n",
        "\n",
        "# Pivot to wide format: one row per itemid, columns = properties\n",
        "pivoted_item_properties = (\n",
        "    latest_values.pivot(\n",
        "        index=\"itemid\",\n",
        "        columns=\"property\",\n",
        "        values=\"latest_value\"\n",
        "    )\n",
        ")\n",
        "\n",
        "# Preview result\n",
        "pivoted_item_properties.head()\n"
      ],
      "metadata": {
        "colab": {
          "base_uri": "https://localhost:8080/",
          "height": 311
        },
        "id": "wtNYeSjnhR35",
        "outputId": "3825ff11-2cec-491f-9a71-0eaae5e370f8"
      },
      "id": "wtNYeSjnhR35",
      "execution_count": 9,
      "outputs": [
        {
          "output_type": "stream",
          "name": "stderr",
          "text": [
            "/tmp/ipython-input-9-1129679522.py:28: DeprecationWarning: The argument `columns` for `DataFrame.pivot` is deprecated. It has been renamed to `on`.\n",
            "  latest_values.pivot(\n"
          ]
        },
        {
          "output_type": "execute_result",
          "data": {
            "text/plain": [
              "shape: (5, 2)\n",
              "┌────────┬────────────┐\n",
              "│ itemid ┆ categoryid │\n",
              "│ ---    ┆ ---        │\n",
              "│ i64    ┆ str        │\n",
              "╞════════╪════════════╡\n",
              "│ 192559 ┆ 1113       │\n",
              "│ 1884   ┆ 330        │\n",
              "│ 21714  ┆ 842        │\n",
              "│ 258802 ┆ 1248       │\n",
              "│ 448227 ┆ 1098       │\n",
              "└────────┴────────────┘"
            ],
            "text/html": [
              "<div><style>\n",
              ".dataframe > thead > tr,\n",
              ".dataframe > tbody > tr {\n",
              "  text-align: right;\n",
              "  white-space: pre-wrap;\n",
              "}\n",
              "</style>\n",
              "<small>shape: (5, 2)</small><table border=\"1\" class=\"dataframe\"><thead><tr><th>itemid</th><th>categoryid</th></tr><tr><td>i64</td><td>str</td></tr></thead><tbody><tr><td>192559</td><td>&quot;1113&quot;</td></tr><tr><td>1884</td><td>&quot;330&quot;</td></tr><tr><td>21714</td><td>&quot;842&quot;</td></tr><tr><td>258802</td><td>&quot;1248&quot;</td></tr><tr><td>448227</td><td>&quot;1098&quot;</td></tr></tbody></table></div>"
            ]
          },
          "metadata": {},
          "execution_count": 9
        }
      ]
    },
    {
      "cell_type": "code",
      "source": [
        "# Final: create category-only pivot and clean types\n",
        "category_only = (\n",
        "    item_properties\n",
        "    .filter(pl.col(\"property\") == \"categoryid\")\n",
        "    .sort(\"timestamp\")\n",
        "    .group_by(\"itemid\")\n",
        "    .agg(pl.last(\"value\").alias(\"categoryid\"))\n",
        "    .with_columns([\n",
        "        pl.col(\"categoryid\").cast(pl.Int64, strict=False)\n",
        "    ])\n",
        ")\n"
      ],
      "metadata": {
        "id": "MjmKiAEpiA10"
      },
      "id": "MjmKiAEpiA10",
      "execution_count": 10,
      "outputs": []
    },
    {
      "cell_type": "code",
      "source": [
        "SCHEMA = {\n",
        "    \"categoryid\": {\"dtype\": pl.Int64, \"clean\": \"strip_quotes\"}\n",
        "}\n",
        "\n",
        "def pivot_item_properties(props_df, schema):\n",
        "    # Filter only properties of interest\n",
        "    props_df = props_df.filter(pl.col(\"property\").is_in(list(schema.keys())))\n",
        "\n",
        "    # Get the latest value for each item-property combination\n",
        "    latest = (\n",
        "        props_df.sort(\"timestamp\", descending=True)\n",
        "        .unique(subset=[\"itemid\", \"property\"])\n",
        "    )\n",
        "\n",
        "    # Pivot so each property becomes a column\n",
        "    pivoted = latest.pivot(index=\"itemid\", on=\"property\", values=\"value\")\n",
        "\n",
        "    # Sanitize and convert data types\n",
        "    for key, cfg in schema.items():\n",
        "        if key in pivoted.columns:\n",
        "            col = pl.col(key)\n",
        "            if cfg[\"clean\"] == \"strip_quotes\":\n",
        "                col = col.str.strip_chars('\"')\n",
        "            elif cfg[\"clean\"] == \"coerce_float\":\n",
        "                col = col.cast(pl.Float64, strict=False)\n",
        "            col = col.cast(cfg[\"dtype\"], strict=False)\n",
        "            pivoted = pivoted.with_columns([col.alias(key)])\n",
        "        else:\n",
        "            print(f\"⚠️ Warning: '{key}' not found in pivoted columns.\")\n",
        "\n",
        "    return pivoted\n",
        "\n",
        "item_meta = pivot_item_properties(item_properties, SCHEMA).to_pandas()\n"
      ],
      "metadata": {
        "id": "vgHfe_MEiCTF"
      },
      "id": "vgHfe_MEiCTF",
      "execution_count": 11,
      "outputs": []
    },
    {
      "cell_type": "code",
      "source": [
        "# Check distinct properties in the combined item_properties\n",
        "print(item_properties.select(\"property\").unique().sort(\"property\"))\n"
      ],
      "metadata": {
        "colab": {
          "base_uri": "https://localhost:8080/"
        },
        "id": "k5aikIKfj8vv",
        "outputId": "9b57a95b-2a6e-4043-a8b9-628b9357ca86"
      },
      "id": "k5aikIKfj8vv",
      "execution_count": 12,
      "outputs": [
        {
          "output_type": "stream",
          "name": "stdout",
          "text": [
            "shape: (1, 1)\n",
            "┌────────────┐\n",
            "│ property   │\n",
            "│ ---        │\n",
            "│ str        │\n",
            "╞════════════╡\n",
            "│ categoryid │\n",
            "└────────────┘\n"
          ]
        }
      ]
    },
    {
      "cell_type": "code",
      "source": [
        "events = events.merge(item_meta, how=\"left\", on=\"itemid\")"
      ],
      "metadata": {
        "id": "G7EC5d2LdR6b"
      },
      "id": "G7EC5d2LdR6b",
      "execution_count": 13,
      "outputs": []
    },
    {
      "cell_type": "code",
      "source": [
        "events[\"hour_of_day\"] = events[\"timestamp\"].dt.hour\n",
        "events[\"day_of_week\"] = events[\"timestamp\"].dt.dayofweek"
      ],
      "metadata": {
        "id": "G53JFM_IhGpt"
      },
      "id": "G53JFM_IhGpt",
      "execution_count": 14,
      "outputs": []
    },
    {
      "cell_type": "code",
      "source": [
        "print(events.columns)\n"
      ],
      "metadata": {
        "colab": {
          "base_uri": "https://localhost:8080/"
        },
        "id": "OKD72U2VhHpS",
        "outputId": "05f5f5b3-0a2b-4c7f-e26f-6a09839aba8b"
      },
      "id": "OKD72U2VhHpS",
      "execution_count": 15,
      "outputs": [
        {
          "output_type": "stream",
          "name": "stdout",
          "text": [
            "Index(['timestamp', 'visitorid', 'event', 'itemid', 'transactionid',\n",
            "       'timestamp_hour', 'categoryid', 'hour_of_day', 'day_of_week'],\n",
            "      dtype='object')\n"
          ]
        }
      ]
    },
    {
      "cell_type": "code",
      "source": [
        "import polars as pl\n",
        "from datetime import timedelta\n",
        "\n",
        "# Load events\n",
        "events = pl.read_csv(\"/content/events.csv\")\n",
        "\n",
        "# Convert timestamp to datetime\n",
        "events = events.with_columns([\n",
        "    pl.col(\"timestamp\").cast(pl.Datetime(\"ms\"))\n",
        "])\n",
        "\n",
        "# Add time-based features\n",
        "events = events.with_columns([\n",
        "    pl.col(\"timestamp\").dt.hour().alias(\"hour_of_day\"),\n",
        "    pl.col(\"timestamp\").dt.weekday().alias(\"day_of_week\")\n",
        "])\n",
        "\n",
        "# Sort by visitor and time to define sessions\n",
        "events = events.sort([\"visitorid\", \"timestamp\"])\n",
        "\n",
        "# Define new session based on 30-min gap\n",
        "events = events.with_columns([\n",
        "    (pl.col(\"timestamp\").diff().over(\"visitorid\") > pl.duration(minutes=30)).fill_null(True).alias(\"is_new_session\")\n",
        "])\n",
        "\n",
        "# Cumulative session number\n",
        "events = events.with_columns([\n",
        "    pl.col(\"is_new_session\").cast(pl.Int32).cum_sum().over(\"visitorid\").alias(\"session_number\")\n",
        "])\n",
        "\n",
        "# Create session ID\n",
        "events = events.with_columns([\n",
        "    (pl.col(\"visitorid\").cast(str) + \"_\" + pl.col(\"session_number\").cast(str)).alias(\"sessionid\")\n",
        "])\n",
        "\n",
        "# --- Feature: views_last_24h ---\n",
        "\n",
        "# Calculate cutoff time\n",
        "cutoff_time = events.select(pl.col(\"timestamp\").max()).item() - timedelta(days=1)\n",
        "\n",
        "# Filter recent views\n",
        "recent_views = events.filter(\n",
        "    (pl.col(\"timestamp\") >= cutoff_time) & (pl.col(\"event\") == \"view\")\n",
        ")\n",
        "\n",
        "# Count views in the last 24h per session\n",
        "views_24h = recent_views.group_by(\"sessionid\").agg(\n",
        "    pl.len().alias(\"views_last_24h\")\n",
        "\n",
        ")\n",
        "\n",
        "# Merge back into main events data\n",
        "events = events.join(views_24h, on=\"sessionid\", how=\"left\").fill_null(0)\n",
        "\n",
        "# Save or preview\n",
        "events.write_parquet(\"/content/enriched_events.parquet\")\n",
        "events.head()\n"
      ],
      "metadata": {
        "colab": {
          "base_uri": "https://localhost:8080/",
          "height": 362
        },
        "id": "iefsaRWqicda",
        "outputId": "c14b6174-81ed-431b-e634-3c2a6fe0cdbd"
      },
      "id": "iefsaRWqicda",
      "execution_count": 16,
      "outputs": [
        {
          "output_type": "execute_result",
          "data": {
            "text/plain": [
              "shape: (5, 11)\n",
              "┌─────────────┬───────────┬───────┬────────┬───┬─────────────┬────────────┬───────────┬────────────┐\n",
              "│ timestamp   ┆ visitorid ┆ event ┆ itemid ┆ … ┆ is_new_sess ┆ session_nu ┆ sessionid ┆ views_last │\n",
              "│ ---         ┆ ---       ┆ ---   ┆ ---    ┆   ┆ ion         ┆ mber       ┆ ---       ┆ _24h       │\n",
              "│ datetime[ms ┆ i64       ┆ str   ┆ i64    ┆   ┆ ---         ┆ ---        ┆ str       ┆ ---        │\n",
              "│ ]           ┆           ┆       ┆        ┆   ┆ bool        ┆ i32        ┆           ┆ u32        │\n",
              "╞═════════════╪═══════════╪═══════╪════════╪═══╪═════════════╪════════════╪═══════════╪════════════╡\n",
              "│ 2015-09-11  ┆ 0         ┆ view  ┆ 285930 ┆ … ┆ true        ┆ 1          ┆ 0_1       ┆ 0          │\n",
              "│ 20:49:49.43 ┆           ┆       ┆        ┆   ┆             ┆            ┆           ┆            │\n",
              "│ 9           ┆           ┆       ┆        ┆   ┆             ┆            ┆           ┆            │\n",
              "│ 2015-09-11  ┆ 0         ┆ view  ┆ 357564 ┆ … ┆ false       ┆ 1          ┆ 0_1       ┆ 0          │\n",
              "│ 20:52:39.59 ┆           ┆       ┆        ┆   ┆             ┆            ┆           ┆            │\n",
              "│ 1           ┆           ┆       ┆        ┆   ┆             ┆            ┆           ┆            │\n",
              "│ 2015-09-11  ┆ 0         ┆ view  ┆ 67045  ┆ … ┆ false       ┆ 1          ┆ 0_1       ┆ 0          │\n",
              "│ 20:55:17.17 ┆           ┆       ┆        ┆   ┆             ┆            ┆           ┆            │\n",
              "│ 5           ┆           ┆       ┆        ┆   ┆             ┆            ┆           ┆            │\n",
              "│ 2015-08-13  ┆ 1         ┆ view  ┆ 72028  ┆ … ┆ true        ┆ 1          ┆ 1_1       ┆ 0          │\n",
              "│ 17:46:06.44 ┆           ┆       ┆        ┆   ┆             ┆            ┆           ┆            │\n",
              "│ 4           ┆           ┆       ┆        ┆   ┆             ┆            ┆           ┆            │\n",
              "│ 2015-08-07  ┆ 2         ┆ view  ┆ 325215 ┆ … ┆ true        ┆ 1          ┆ 2_1       ┆ 0          │\n",
              "│ 17:51:44.56 ┆           ┆       ┆        ┆   ┆             ┆            ┆           ┆            │\n",
              "│ 7           ┆           ┆       ┆        ┆   ┆             ┆            ┆           ┆            │\n",
              "└─────────────┴───────────┴───────┴────────┴───┴─────────────┴────────────┴───────────┴────────────┘"
            ],
            "text/html": [
              "<div><style>\n",
              ".dataframe > thead > tr,\n",
              ".dataframe > tbody > tr {\n",
              "  text-align: right;\n",
              "  white-space: pre-wrap;\n",
              "}\n",
              "</style>\n",
              "<small>shape: (5, 11)</small><table border=\"1\" class=\"dataframe\"><thead><tr><th>timestamp</th><th>visitorid</th><th>event</th><th>itemid</th><th>transactionid</th><th>hour_of_day</th><th>day_of_week</th><th>is_new_session</th><th>session_number</th><th>sessionid</th><th>views_last_24h</th></tr><tr><td>datetime[ms]</td><td>i64</td><td>str</td><td>i64</td><td>str</td><td>i8</td><td>i8</td><td>bool</td><td>i32</td><td>str</td><td>u32</td></tr></thead><tbody><tr><td>2015-09-11 20:49:49.439</td><td>0</td><td>&quot;view&quot;</td><td>285930</td><td>null</td><td>20</td><td>5</td><td>true</td><td>1</td><td>&quot;0_1&quot;</td><td>0</td></tr><tr><td>2015-09-11 20:52:39.591</td><td>0</td><td>&quot;view&quot;</td><td>357564</td><td>null</td><td>20</td><td>5</td><td>false</td><td>1</td><td>&quot;0_1&quot;</td><td>0</td></tr><tr><td>2015-09-11 20:55:17.175</td><td>0</td><td>&quot;view&quot;</td><td>67045</td><td>null</td><td>20</td><td>5</td><td>false</td><td>1</td><td>&quot;0_1&quot;</td><td>0</td></tr><tr><td>2015-08-13 17:46:06.444</td><td>1</td><td>&quot;view&quot;</td><td>72028</td><td>null</td><td>17</td><td>4</td><td>true</td><td>1</td><td>&quot;1_1&quot;</td><td>0</td></tr><tr><td>2015-08-07 17:51:44.567</td><td>2</td><td>&quot;view&quot;</td><td>325215</td><td>null</td><td>17</td><td>5</td><td>true</td><td>1</td><td>&quot;2_1&quot;</td><td>0</td></tr></tbody></table></div>"
            ]
          },
          "metadata": {},
          "execution_count": 16
        }
      ]
    },
    {
      "cell_type": "code",
      "source": [
        "print(type(recent_views))\n",
        "print(recent_views.columns)\n",
        "\n"
      ],
      "metadata": {
        "colab": {
          "base_uri": "https://localhost:8080/"
        },
        "id": "dv3018EUktbP",
        "outputId": "32266feb-ce25-462a-926b-12e4182544e9"
      },
      "id": "dv3018EUktbP",
      "execution_count": 17,
      "outputs": [
        {
          "output_type": "stream",
          "name": "stdout",
          "text": [
            "<class 'polars.dataframe.frame.DataFrame'>\n",
            "['timestamp', 'visitorid', 'event', 'itemid', 'transactionid', 'hour_of_day', 'day_of_week', 'is_new_session', 'session_number', 'sessionid']\n"
          ]
        }
      ]
    },
    {
      "cell_type": "code",
      "source": [
        "import polars as pl\n",
        "\n",
        "# Event type splits\n",
        "views = events.filter(pl.col(\"event\") == \"view\")\n",
        "carts = events.filter(pl.col(\"event\") == \"cart\")\n",
        "purchases = events.filter(pl.col(\"event\") == \"purchase\")\n",
        "\n",
        "# Count events by item\n",
        "view_counts = views.group_by(\"itemid\").agg(pl.len().alias(\"view_count\"))\n",
        "cart_counts = carts.group_by(\"itemid\").agg(pl.len().alias(\"cart_count\"))\n",
        "purchase_counts = purchases.group_by(\"itemid\").agg(pl.len().alias(\"purchase_count\"))\n",
        "\n",
        "# Join with custom suffix to avoid duplicate `itemid` columns\n",
        "conversion_stats = (\n",
        "    view_counts\n",
        "    .join(cart_counts, on=\"itemid\", how=\"full\", suffix=\"_cart\")\n",
        "    .join(purchase_counts, on=\"itemid\", how=\"full\", suffix=\"_purchase\")\n",
        "    .fill_null(0)\n",
        ")\n",
        "\n",
        "# Compute conversion rates\n",
        "conversion_stats = conversion_stats.with_columns([\n",
        "    (pl.col(\"cart_count\") / pl.col(\"view_count\")).alias(\"cart_conversion_rate\"),\n",
        "    (pl.col(\"purchase_count\") / pl.col(\"view_count\")).alias(\"purchase_conversion_rate\")\n",
        "])\n",
        "\n",
        "# Join back to event stream\n",
        "events = events.join(\n",
        "    conversion_stats.select([\"itemid\", \"cart_conversion_rate\", \"purchase_conversion_rate\"]),\n",
        "    on=\"itemid\",\n",
        "    how=\"left\"\n",
        ").fill_null(0)\n",
        "\n",
        "# Save result\n",
        "events.write_parquet(\"/content/enriched_events_with_conversion.parquet\")\n",
        "print(\"✅ Done: Saved to enriched_events_with_conversion.parquet\")\n"
      ],
      "metadata": {
        "colab": {
          "base_uri": "https://localhost:8080/"
        },
        "id": "0_BEvnemmVxI",
        "outputId": "8923b950-2d0a-4c1b-cf4b-eb4d8946cf5f"
      },
      "id": "0_BEvnemmVxI",
      "execution_count": 18,
      "outputs": [
        {
          "output_type": "stream",
          "name": "stdout",
          "text": [
            "✅ Done: Saved to enriched_events_with_conversion.parquet\n"
          ]
        }
      ]
    },
    {
      "cell_type": "code",
      "source": [
        "pl.read_csv(\"events.csv\").columns\n"
      ],
      "metadata": {
        "colab": {
          "base_uri": "https://localhost:8080/"
        },
        "id": "BmHoYcYSwxz1",
        "outputId": "8ceac5ed-565b-4843-85fa-9636cd891a6e"
      },
      "id": "BmHoYcYSwxz1",
      "execution_count": 19,
      "outputs": [
        {
          "output_type": "execute_result",
          "data": {
            "text/plain": [
              "['timestamp', 'visitorid', 'event', 'itemid', 'transactionid']"
            ]
          },
          "metadata": {},
          "execution_count": 19
        }
      ]
    },
    {
      "cell_type": "code",
      "source": [
        "import polars as pl\n",
        "\n",
        "# Load in lazy mode\n",
        "events = pl.read_csv(\"events.csv\").lazy()\n",
        "\n",
        "# Convert timestamp and add time-based features\n",
        "events = events.with_columns([\n",
        "    pl.col(\"timestamp\").cast(pl.Datetime(\"ms\")).alias(\"timestamp\")\n",
        "])\n",
        "\n",
        "events = events.with_columns([\n",
        "    pl.col(\"timestamp\").dt.hour().alias(\"hour_of_day\"),\n",
        "    pl.col(\"timestamp\").dt.weekday().alias(\"day_of_week\")\n",
        "])\n",
        "\n",
        "# Preview 5 rows safely\n",
        "events.head(5).collect()\n"
      ],
      "metadata": {
        "colab": {
          "base_uri": "https://localhost:8080/",
          "height": 275
        },
        "id": "uTk8NcDHz5kX",
        "outputId": "69bab7f4-1fda-427b-a4f9-dbecf81f7568"
      },
      "id": "uTk8NcDHz5kX",
      "execution_count": 20,
      "outputs": [
        {
          "output_type": "execute_result",
          "data": {
            "text/plain": [
              "shape: (5, 7)\n",
              "┌─────────────────────────┬───────────┬───────┬────────┬───────────────┬─────────────┬─────────────┐\n",
              "│ timestamp               ┆ visitorid ┆ event ┆ itemid ┆ transactionid ┆ hour_of_day ┆ day_of_week │\n",
              "│ ---                     ┆ ---       ┆ ---   ┆ ---    ┆ ---           ┆ ---         ┆ ---         │\n",
              "│ datetime[ms]            ┆ i64       ┆ str   ┆ i64    ┆ str           ┆ i8          ┆ i8          │\n",
              "╞═════════════════════════╪═══════════╪═══════╪════════╪═══════════════╪═════════════╪═════════════╡\n",
              "│ 2015-06-02 05:02:12.117 ┆ 257597    ┆ view  ┆ 355908 ┆ null          ┆ 5           ┆ 2           │\n",
              "│ 2015-06-02 05:50:14.164 ┆ 992329    ┆ view  ┆ 248676 ┆ null          ┆ 5           ┆ 2           │\n",
              "│ 2015-06-02 05:13:19.827 ┆ 111016    ┆ view  ┆ 318965 ┆ null          ┆ 5           ┆ 2           │\n",
              "│ 2015-06-02 05:12:35.914 ┆ 483717    ┆ view  ┆ 253185 ┆ null          ┆ 5           ┆ 2           │\n",
              "│ 2015-06-02 05:02:17.106 ┆ 951259    ┆ view  ┆ 367447 ┆ null          ┆ 5           ┆ 2           │\n",
              "└─────────────────────────┴───────────┴───────┴────────┴───────────────┴─────────────┴─────────────┘"
            ],
            "text/html": [
              "<div><style>\n",
              ".dataframe > thead > tr,\n",
              ".dataframe > tbody > tr {\n",
              "  text-align: right;\n",
              "  white-space: pre-wrap;\n",
              "}\n",
              "</style>\n",
              "<small>shape: (5, 7)</small><table border=\"1\" class=\"dataframe\"><thead><tr><th>timestamp</th><th>visitorid</th><th>event</th><th>itemid</th><th>transactionid</th><th>hour_of_day</th><th>day_of_week</th></tr><tr><td>datetime[ms]</td><td>i64</td><td>str</td><td>i64</td><td>str</td><td>i8</td><td>i8</td></tr></thead><tbody><tr><td>2015-06-02 05:02:12.117</td><td>257597</td><td>&quot;view&quot;</td><td>355908</td><td>null</td><td>5</td><td>2</td></tr><tr><td>2015-06-02 05:50:14.164</td><td>992329</td><td>&quot;view&quot;</td><td>248676</td><td>null</td><td>5</td><td>2</td></tr><tr><td>2015-06-02 05:13:19.827</td><td>111016</td><td>&quot;view&quot;</td><td>318965</td><td>null</td><td>5</td><td>2</td></tr><tr><td>2015-06-02 05:12:35.914</td><td>483717</td><td>&quot;view&quot;</td><td>253185</td><td>null</td><td>5</td><td>2</td></tr><tr><td>2015-06-02 05:02:17.106</td><td>951259</td><td>&quot;view&quot;</td><td>367447</td><td>null</td><td>5</td><td>2</td></tr></tbody></table></div>"
            ]
          },
          "metadata": {},
          "execution_count": 20
        }
      ]
    },
    {
      "cell_type": "code",
      "source": [
        "import polars as pl\n",
        "from datetime import timedelta\n",
        "\n",
        "# Load events as LazyFrame\n",
        "events = pl.read_csv(\"events.csv\").lazy()\n",
        "\n",
        "# Step 1: Cast timestamp to Datetime\n",
        "events = events.with_columns([\n",
        "    pl.col(\"timestamp\").cast(pl.Datetime(\"ms\")).alias(\"timestamp\")\n",
        "])\n",
        "\n",
        "# Step 2: Add hour_of_day and day_of_week\n",
        "events = events.with_columns([\n",
        "    pl.col(\"timestamp\").dt.hour().alias(\"hour_of_day\"),\n",
        "    pl.col(\"timestamp\").dt.weekday().alias(\"day_of_week\"),\n",
        "])\n"
      ],
      "metadata": {
        "id": "PEjDoV2X1GgB"
      },
      "id": "PEjDoV2X1GgB",
      "execution_count": 21,
      "outputs": []
    },
    {
      "cell_type": "code",
      "source": [
        "events.collect().head(5)\n",
        "\n"
      ],
      "metadata": {
        "colab": {
          "base_uri": "https://localhost:8080/",
          "height": 275
        },
        "id": "6ju2xiq51Hvz",
        "outputId": "51ad5378-311b-4826-82e1-a9f1dd4832ae"
      },
      "id": "6ju2xiq51Hvz",
      "execution_count": 22,
      "outputs": [
        {
          "output_type": "execute_result",
          "data": {
            "text/plain": [
              "shape: (5, 7)\n",
              "┌─────────────────────────┬───────────┬───────┬────────┬───────────────┬─────────────┬─────────────┐\n",
              "│ timestamp               ┆ visitorid ┆ event ┆ itemid ┆ transactionid ┆ hour_of_day ┆ day_of_week │\n",
              "│ ---                     ┆ ---       ┆ ---   ┆ ---    ┆ ---           ┆ ---         ┆ ---         │\n",
              "│ datetime[ms]            ┆ i64       ┆ str   ┆ i64    ┆ str           ┆ i8          ┆ i8          │\n",
              "╞═════════════════════════╪═══════════╪═══════╪════════╪═══════════════╪═════════════╪═════════════╡\n",
              "│ 2015-06-02 05:02:12.117 ┆ 257597    ┆ view  ┆ 355908 ┆ null          ┆ 5           ┆ 2           │\n",
              "│ 2015-06-02 05:50:14.164 ┆ 992329    ┆ view  ┆ 248676 ┆ null          ┆ 5           ┆ 2           │\n",
              "│ 2015-06-02 05:13:19.827 ┆ 111016    ┆ view  ┆ 318965 ┆ null          ┆ 5           ┆ 2           │\n",
              "│ 2015-06-02 05:12:35.914 ┆ 483717    ┆ view  ┆ 253185 ┆ null          ┆ 5           ┆ 2           │\n",
              "│ 2015-06-02 05:02:17.106 ┆ 951259    ┆ view  ┆ 367447 ┆ null          ┆ 5           ┆ 2           │\n",
              "└─────────────────────────┴───────────┴───────┴────────┴───────────────┴─────────────┴─────────────┘"
            ],
            "text/html": [
              "<div><style>\n",
              ".dataframe > thead > tr,\n",
              ".dataframe > tbody > tr {\n",
              "  text-align: right;\n",
              "  white-space: pre-wrap;\n",
              "}\n",
              "</style>\n",
              "<small>shape: (5, 7)</small><table border=\"1\" class=\"dataframe\"><thead><tr><th>timestamp</th><th>visitorid</th><th>event</th><th>itemid</th><th>transactionid</th><th>hour_of_day</th><th>day_of_week</th></tr><tr><td>datetime[ms]</td><td>i64</td><td>str</td><td>i64</td><td>str</td><td>i8</td><td>i8</td></tr></thead><tbody><tr><td>2015-06-02 05:02:12.117</td><td>257597</td><td>&quot;view&quot;</td><td>355908</td><td>null</td><td>5</td><td>2</td></tr><tr><td>2015-06-02 05:50:14.164</td><td>992329</td><td>&quot;view&quot;</td><td>248676</td><td>null</td><td>5</td><td>2</td></tr><tr><td>2015-06-02 05:13:19.827</td><td>111016</td><td>&quot;view&quot;</td><td>318965</td><td>null</td><td>5</td><td>2</td></tr><tr><td>2015-06-02 05:12:35.914</td><td>483717</td><td>&quot;view&quot;</td><td>253185</td><td>null</td><td>5</td><td>2</td></tr><tr><td>2015-06-02 05:02:17.106</td><td>951259</td><td>&quot;view&quot;</td><td>367447</td><td>null</td><td>5</td><td>2</td></tr></tbody></table></div>"
            ]
          },
          "metadata": {},
          "execution_count": 22
        }
      ]
    },
    {
      "cell_type": "code",
      "source": [
        "from datetime import timedelta\n",
        "import polars as pl\n",
        "\n",
        "# Step 1: Sort and detect new sessions\n",
        "# Ensure the data is sorted by visitor and timestamp within the lazy context\n",
        "events = events.sort([\"visitorid\", \"timestamp\"])\n",
        "\n",
        "# Step 2: Calculate time difference and detect new sessions\n",
        "events = events.with_columns([\n",
        "    (pl.col(\"timestamp\").diff().over(\"visitorid\") > pl.duration(minutes=30))\n",
        "    .fill_null(True)\n",
        "    .alias(\"is_new_session\")\n",
        "])\n",
        "\n",
        "# Step 3: Assign session_number per visitor using a window function\n",
        "events = events.with_columns([\n",
        "    pl.col(\"is_new_session\").cast(pl.Int32).cum_sum().over(\"visitorid\").alias(\"session_number\")\n",
        "])\n",
        "\n",
        "# Step 4: Create sessionid column\n",
        "events = events.with_columns([\n",
        "    (pl.col(\"visitorid\").cast(pl.Utf8) + \"_\" + pl.col(\"session_number\").cast(pl.Utf8)).alias(\"sessionid\")\n",
        "])\n",
        "\n",
        "# Preview the result (collecting only a small portion)\n",
        "print(events.head(5))\n"
      ],
      "metadata": {
        "colab": {
          "base_uri": "https://localhost:8080/"
        },
        "id": "Cx7vmsgu1fCv",
        "outputId": "5266298f-8bb0-4d6b-d71f-8bbad945802c"
      },
      "id": "Cx7vmsgu1fCv",
      "execution_count": 23,
      "outputs": [
        {
          "output_type": "stream",
          "name": "stdout",
          "text": [
            "naive plan: (run LazyFrame.explain(optimized=True) to see the optimized plan)\n",
            "\n",
            "SLICE[offset: 0, len: 5]\n",
            "   WITH_COLUMNS:\n",
            "   [col(\"visitorid\").strict_cast(String).str.concat_horizontal([String(_), col(\"session_number\").strict_cast(String)]).alias(\"sessionid\")] \n",
            "     WITH_COLUMNS:\n",
            "     [col(\"is_new_session\").strict_cast(Int32).cum_sum().over([col(\"visitorid\")]).alias(\"session_number\")] \n",
            "       WITH_COLUMNS:\n",
            "       [[(col(\"timestamp\").diff().over([col(\"visitorid\")])) > (30m.cast(Duration(Milliseconds)))].fill_null([true]).alias(\"is_new_session\")] \n",
            "        SORT BY [col(\"visitorid\"), col(\"timestamp\")]\n",
            "           WITH_COLUMNS:\n",
            "           [col(\"timestamp\").dt.hour().alias(\"hour_of_day\"), col(\"timestamp\").dt.weekday().alias(\"day_of_week\")] \n",
            "             WITH_COLUMNS:\n",
            "             [col(\"timestamp\").strict_cast(Datetime(Milliseconds, None)).alias(\"timestamp\")] \n",
            "              DF [\"timestamp\", \"visitorid\", \"event\", \"itemid\", ...]; PROJECT */5 COLUMNS\n"
          ]
        }
      ]
    },
    {
      "cell_type": "code",
      "source": [],
      "metadata": {
        "id": "NT9jUD7K7XWR"
      },
      "id": "NT9jUD7K7XWR",
      "execution_count": 23,
      "outputs": []
    }
  ]
}