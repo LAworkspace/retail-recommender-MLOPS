{
  "cells": [
    {
      "cell_type": "markdown",
      "metadata": {
        "id": "view-in-github",
        "colab_type": "text"
      },
      "source": [
        "<a href=\"https://colab.research.google.com/github/LAworkspace/retail-recommender-MLOPS/blob/main/1_model_training.ipynb\" target=\"_parent\"><img src=\"https://colab.research.google.com/assets/colab-badge.svg\" alt=\"Open In Colab\"/></a>"
      ]
    },
    {
      "cell_type": "code",
      "execution_count": 3,
      "metadata": {
        "id": "K3WlGfoipgO7"
      },
      "outputs": [],
      "source": [
        "import polars as pl\n",
        "\n",
        "# ✅ Step 1: Load the enriched dataset\n",
        "events = pl.read_parquet(\"/content/enriched_events_with_conversion (1).parquet\")\n",
        "\n"
      ]
    },
    {
      "cell_type": "code",
      "execution_count": 4,
      "metadata": {
        "id": "VsZlr9qyuH8-"
      },
      "outputs": [],
      "source": [
        "agg = events.group_by([\"visitorid\", \"sessionid\", \"itemid\"]).agg([\n",
        "    pl.len().alias(\"total_events\"),\n",
        "    (pl.col(\"event\") == \"view\").cast(pl.Int8).sum().alias(\"view_count\"),\n",
        "    (pl.col(\"event\") == \"cart\").cast(pl.Int8).sum().alias(\"added_to_cart\"),\n",
        "    ((pl.max(\"timestamp\") - pl.min(\"timestamp\")).cast(pl.Int64) / 1_000_000_000).alias(\"dwell_time_secs\")\n",
        "])\n"
      ]
    },
    {
      "cell_type": "code",
      "execution_count": 5,
      "metadata": {
        "colab": {
          "base_uri": "https://localhost:8080/",
          "height": 275
        },
        "id": "pzquLAxOFaTC",
        "outputId": "1af5dd47-737d-4943-8e3f-b6ae60adc010"
      },
      "outputs": [
        {
          "output_type": "execute_result",
          "data": {
            "text/plain": [
              "shape: (5, 1)\n",
              "┌──────────────────┐\n",
              "│ label_interested │\n",
              "│ ---              │\n",
              "│ i8               │\n",
              "╞══════════════════╡\n",
              "│ 0                │\n",
              "│ 0                │\n",
              "│ 0                │\n",
              "│ 0                │\n",
              "│ 1                │\n",
              "└──────────────────┘"
            ],
            "text/html": [
              "<div><style>\n",
              ".dataframe > thead > tr,\n",
              ".dataframe > tbody > tr {\n",
              "  text-align: right;\n",
              "  white-space: pre-wrap;\n",
              "}\n",
              "</style>\n",
              "<small>shape: (5, 1)</small><table border=\"1\" class=\"dataframe\"><thead><tr><th>label_interested</th></tr><tr><td>i8</td></tr></thead><tbody><tr><td>0</td></tr><tr><td>0</td></tr><tr><td>0</td></tr><tr><td>0</td></tr><tr><td>1</td></tr></tbody></table></div>"
            ]
          },
          "metadata": {},
          "execution_count": 5
        }
      ],
      "source": [
        "events.select(\"label_interested\").head()\n"
      ]
    },
    {
      "cell_type": "markdown",
      "metadata": {
        "id": "J9ngs1jIIxrf"
      },
      "source": [
        "TRAINING:\n"
      ]
    },
    {
      "cell_type": "code",
      "execution_count": 6,
      "metadata": {
        "colab": {
          "base_uri": "https://localhost:8080/"
        },
        "id": "79-P2GneIzPM",
        "outputId": "d7fadf85-e906-4446-c4b7-7b1100eac7fe"
      },
      "outputs": [
        {
          "output_type": "stream",
          "name": "stdout",
          "text": [
            "['timestamp', 'visitorid', 'event', 'itemid', 'transactionid', 'hour_of_day', 'day_of_week', 'is_new_session', 'session_number', 'sessionid', 'views_last_24h', 'cart_conversion_rate', 'purchase_conversion_rate', 'label_interested']\n",
            "shape: (5, 1)\n",
            "┌──────────────────┐\n",
            "│ label_interested │\n",
            "│ ---              │\n",
            "│ i8               │\n",
            "╞══════════════════╡\n",
            "│ 0                │\n",
            "│ 0                │\n",
            "│ 0                │\n",
            "│ 0                │\n",
            "│ 1                │\n",
            "└──────────────────┘\n"
          ]
        }
      ],
      "source": [
        "import polars as pl\n",
        "\n",
        "# Load the enriched parquet file\n",
        "events = pl.read_parquet(\"/content/enriched_events_with_conversion (1).parquet\")  # Replace with your correct path\n",
        "\n",
        "# Confirm the label column exists\n",
        "print(events.columns)\n",
        "print(events.select(\"label_interested\").head())\n"
      ]
    },
    {
      "cell_type": "code",
      "execution_count": 7,
      "metadata": {
        "id": "QdIaExEbI3cu"
      },
      "outputs": [],
      "source": [
        "# Define features & target\n",
        "feature_cols = [\n",
        "    \"views_last_24h\",\n",
        "    \"cart_conversion_rate\",\n",
        "    \"purchase_conversion_rate\",\n",
        "    \"hour_of_day\",\n",
        "    \"day_of_week\"\n",
        "]\n",
        "target_col = \"label_interested\"\n",
        "\n",
        "# Convert to pandas for scikit-learn\n",
        "df_model = events.select(feature_cols + [target_col]).drop_nulls().to_pandas()\n"
      ]
    },
    {
      "cell_type": "code",
      "execution_count": 8,
      "metadata": {
        "id": "EKn-_BF1I6CW"
      },
      "outputs": [],
      "source": [
        "from sklearn.model_selection import train_test_split\n",
        "\n",
        "X = df_model[feature_cols]\n",
        "y = df_model[target_col]\n",
        "\n",
        "X_train, X_test, y_train, y_test = train_test_split(X, y, test_size=0.2, random_state=42)\n"
      ]
    },
    {
      "cell_type": "code",
      "execution_count": 9,
      "metadata": {
        "colab": {
          "base_uri": "https://localhost:8080/"
        },
        "id": "XAhbWSfxI8rF",
        "outputId": "bacce946-9257-4059-d4ab-2c7b052072c9"
      },
      "outputs": [
        {
          "output_type": "stream",
          "name": "stdout",
          "text": [
            "Requirement already satisfied: lightgbm in /usr/local/lib/python3.11/dist-packages (4.6.0)\n",
            "Requirement already satisfied: numpy>=1.17.0 in /usr/local/lib/python3.11/dist-packages (from lightgbm) (2.0.2)\n",
            "Requirement already satisfied: scipy in /usr/local/lib/python3.11/dist-packages (from lightgbm) (1.16.0)\n",
            "Training until validation scores don't improve for 10 rounds\n",
            "[10]\tvalid_0's binary_logloss: 0.552562\n",
            "[20]\tvalid_0's binary_logloss: 0.552291\n",
            "[30]\tvalid_0's binary_logloss: 0.552172\n",
            "[40]\tvalid_0's binary_logloss: 0.552115\n",
            "[50]\tvalid_0's binary_logloss: 0.552086\n",
            "[60]\tvalid_0's binary_logloss: 0.552068\n",
            "[70]\tvalid_0's binary_logloss: 0.552058\n",
            "[80]\tvalid_0's binary_logloss: 0.552051\n",
            "[90]\tvalid_0's binary_logloss: 0.552047\n",
            "[100]\tvalid_0's binary_logloss: 0.552038\n",
            "Did not meet early stopping. Best iteration is:\n",
            "[100]\tvalid_0's binary_logloss: 0.552038\n"
          ]
        }
      ],
      "source": [
        "# Install LightGBM (if not already)\n",
        "!pip install lightgbm\n",
        "\n",
        "import lightgbm as lgb\n",
        "\n",
        "# Prepare datasets\n",
        "train_data = lgb.Dataset(X_train, label=y_train)\n",
        "test_data = lgb.Dataset(X_test, label=y_test, reference=train_data)\n",
        "\n",
        "# Set parameters\n",
        "params = {\n",
        "    \"objective\": \"binary\",\n",
        "    \"metric\": \"binary_logloss\",\n",
        "    \"verbosity\": -1,\n",
        "    \"boosting_type\": \"gbdt\",\n",
        "    \"learning_rate\": 0.05,\n",
        "    \"num_leaves\": 31,\n",
        "    \"seed\": 42\n",
        "}\n",
        "\n",
        "# Train\n",
        "from lightgbm import early_stopping, log_evaluation\n",
        "\n",
        "model = lgb.train(\n",
        "    params,\n",
        "    train_data,\n",
        "    num_boost_round=100,\n",
        "    valid_sets=[test_data],\n",
        "    callbacks=[\n",
        "        early_stopping(stopping_rounds=10),\n",
        "        log_evaluation(10)\n",
        "    ]\n",
        ")\n",
        "\n",
        "\n"
      ]
    },
    {
      "cell_type": "code",
      "execution_count": 10,
      "metadata": {
        "colab": {
          "base_uri": "https://localhost:8080/"
        },
        "id": "t5pg-vyWJldT",
        "outputId": "d27592ca-7bf4-40a7-a38e-91f7d348c47f"
      },
      "outputs": [
        {
          "output_type": "stream",
          "name": "stdout",
          "text": [
            "[[417786    104]\n",
            " [133200    131]]\n",
            "              precision    recall  f1-score   support\n",
            "\n",
            "           0       0.76      1.00      0.86    417890\n",
            "           1       0.56      0.00      0.00    133331\n",
            "\n",
            "    accuracy                           0.76    551221\n",
            "   macro avg       0.66      0.50      0.43    551221\n",
            "weighted avg       0.71      0.76      0.65    551221\n",
            "\n"
          ]
        }
      ],
      "source": [
        "from sklearn.metrics import classification_report, confusion_matrix\n",
        "\n",
        "y_pred = model.predict(X_test)\n",
        "y_pred_labels = (y_pred > 0.5).astype(int)\n",
        "\n",
        "print(confusion_matrix(y_test, y_pred_labels))\n",
        "print(classification_report(y_test, y_pred_labels))\n"
      ]
    },
    {
      "cell_type": "code",
      "execution_count": 11,
      "metadata": {
        "colab": {
          "base_uri": "https://localhost:8080/",
          "height": 510
        },
        "id": "PMiluo_PJxkx",
        "outputId": "54385ade-dffb-4a5c-f78e-82bafc8a2a95"
      },
      "outputs": [
        {
          "output_type": "execute_result",
          "data": {
            "text/plain": [
              "<Axes: title={'center': 'Feature importance'}, xlabel='Feature importance', ylabel='Features'>"
            ]
          },
          "metadata": {},
          "execution_count": 11
        },
        {
          "output_type": "display_data",
          "data": {
            "text/plain": [
              "<Figure size 640x480 with 1 Axes>"
            ],
            "image/png": "[encoded data removed]"
          },
          "metadata": {}
        }
      ],
      "source": [
        "lgb.plot_importance(model, max_num_features=10)\n"
      ]
    },
    {
      "cell_type": "markdown",
      "metadata": {
        "id": "I7BuVZqyKUoA"
      },
      "source": [
        "RE-TRAIN 2ND TIME: TO REDUCE CLASS IMBALANCE:"
      ]
    },
    {
      "cell_type": "code",
      "execution_count": 12,
      "metadata": {
        "colab": {
          "base_uri": "https://localhost:8080/"
        },
        "id": "VD8y2vGPKaes",
        "outputId": "e0ade664-9921-40c0-e282-f1d6d7152e55"
      },
      "outputs": [
        {
          "output_type": "stream",
          "name": "stdout",
          "text": [
            "Training until validation scores don't improve for 10 rounds\n",
            "Early stopping, best iteration is:\n",
            "[1]\tvalid_0's binary_logloss: 0.554871\n"
          ]
        }
      ],
      "source": [
        "# Updated training parameters\n",
        "params = {\n",
        "    \"objective\": \"binary\",\n",
        "    \"metric\": \"binary_logloss\",\n",
        "    \"verbosity\": -1,\n",
        "    \"is_unbalance\": True,  # <--- key change\n",
        "    \"boosting_type\": \"gbdt\",\n",
        "    \"learning_rate\": 0.1,\n",
        "    \"num_leaves\": 31,\n",
        "}\n",
        "\n",
        "# Create LightGBM datasets again (if needed)\n",
        "train_data = lgb.Dataset(X_train, label=y_train)\n",
        "test_data = lgb.Dataset(X_test, label=y_test, reference=train_data)\n",
        "\n",
        "# Retrain\n",
        "model = lgb.train(\n",
        "    params,\n",
        "    train_data,\n",
        "    num_boost_round=100,\n",
        "    valid_sets=[test_data],\n",
        "    callbacks=[lgb.early_stopping(stopping_rounds=10)]\n",
        ")\n"
      ]
    },
    {
      "cell_type": "code",
      "execution_count": 13,
      "metadata": {
        "id": "uUEdWte-LVXR"
      },
      "outputs": [],
      "source": [
        "import polars as pl\n",
        "\n",
        "# Load the events file again (just in case)\n",
        "events = pl.read_parquet(\"/content/enriched_events_with_conversion (1).parquet\")\n",
        "\n",
        "# Step 1: Aggregate features\n",
        "agg = events.group_by([\"visitorid\", \"sessionid\", \"itemid\"]).agg([\n",
        "    (pl.col(\"event\") == \"view\").cast(pl.Int8).sum().alias(\"view_count\"),\n",
        "    (pl.col(\"event\") == \"cart\").cast(pl.Int8).sum().alias(\"added_to_cart\"),\n",
        "    (pl.col(\"timestamp\").max() - pl.col(\"timestamp\").min()).dt.cast_time_unit(\"ms\").alias(\"dwell_time_ms\")\n",
        "])\n",
        "\n",
        "# Step 2: Convert dwell time to seconds\n",
        "agg = agg.with_columns(\n",
        "    (pl.col(\"dwell_time_ms\") / 1000).cast(pl.Int32).alias(\"dwell_time_secs\")\n",
        ").drop(\"dwell_time_ms\")\n",
        "\n",
        "# Step 3: Use events as base model_data before join\n",
        "model_data = events.join(agg, on=[\"visitorid\", \"sessionid\", \"itemid\"], how=\"left\")\n"
      ]
    },
    {
      "cell_type": "code",
      "execution_count": 14,
      "metadata": {
        "colab": {
          "base_uri": "https://localhost:8080/",
          "height": 757
        },
        "id": "9-kK_SJdLLYp",
        "outputId": "fb83eef4-215e-40d2-bf90-3d8681e7f003"
      },
      "outputs": [
        {
          "output_type": "stream",
          "name": "stdout",
          "text": [
            "Training until validation scores don't improve for 20 rounds\n",
            "Did not meet early stopping. Best iteration is:\n",
            "[500]\tvalid_0's binary_logloss: 0.002734\n",
            "[[521986     96]\n",
            " [     9 166935]]\n",
            "              precision    recall  f1-score   support\n",
            "\n",
            "           0       1.00      1.00      1.00    522082\n",
            "           1       1.00      1.00      1.00    166944\n",
            "\n",
            "    accuracy                           1.00    689026\n",
            "   macro avg       1.00      1.00      1.00    689026\n",
            "weighted avg       1.00      1.00      1.00    689026\n",
            "\n"
          ]
        },
        {
          "output_type": "display_data",
          "data": {
            "text/plain": [
              "<Figure size 640x480 with 1 Axes>"
            ],
            "image/png": "[encoded data removed]"
          },
          "metadata": {}
        }
      ],
      "source": [
        "import lightgbm as lgb\n",
        "from sklearn.model_selection import train_test_split\n",
        "from sklearn.metrics import classification_report, confusion_matrix\n",
        "import matplotlib.pyplot as plt\n",
        "\n",
        "# ✅ Step 1: Define full feature list\n",
        "feature_cols = [\n",
        "    \"hour_of_day\", \"day_of_week\", \"views_last_24h\",\n",
        "    \"view_count\", \"added_to_cart\", \"dwell_time_secs\"\n",
        "]\n",
        "target_col = \"label_interested\"\n",
        "\n",
        "# ✅ Step 2: Prepare data\n",
        "df_model = model_data.select(feature_cols + [target_col]).to_pandas()\n",
        "X = df_model[feature_cols]\n",
        "y = df_model[target_col]\n",
        "\n",
        "X_train, X_test, y_train, y_test = train_test_split(\n",
        "    X, y, test_size=0.25, random_state=42, stratify=y\n",
        ")\n",
        "\n",
        "train_data = lgb.Dataset(X_train, label=y_train)\n",
        "test_data = lgb.Dataset(X_test, label=y_test, reference=train_data)\n",
        "\n",
        "# ✅ Step 3: Set params with smaller learning rate\n",
        "params = {\n",
        "    \"objective\": \"binary\",\n",
        "    \"metric\": \"binary_logloss\",\n",
        "    \"verbosity\": -1,\n",
        "    \"is_unbalance\": True,\n",
        "    \"boosting_type\": \"gbdt\",\n",
        "    \"learning_rate\": 0.01,\n",
        "    \"num_leaves\": 31\n",
        "}\n",
        "\n",
        "# ✅ Step 4: Train the model\n",
        "model = lgb.train(\n",
        "    params,\n",
        "    train_data,\n",
        "    num_boost_round=500,\n",
        "    valid_sets=[test_data],\n",
        "    callbacks=[lgb.early_stopping(stopping_rounds=20)]\n",
        ")\n",
        "\n",
        "# ✅ Step 5: Evaluate\n",
        "y_pred = (model.predict(X_test) > 0.5).astype(int)\n",
        "print(confusion_matrix(y_test, y_pred))\n",
        "print(classification_report(y_test, y_pred))\n",
        "\n",
        "# ✅ Step 6: Feature importance plot\n",
        "lgb.plot_importance(model)\n",
        "plt.tight_layout()\n",
        "plt.show()\n"
      ]
    },
    {
      "cell_type": "code",
      "execution_count": 15,
      "metadata": {
        "colab": {
          "base_uri": "https://localhost:8080/"
        },
        "id": "RH6GCd9tL4-u",
        "outputId": "4dc7374c-31bf-4625-e1cf-7657397276bd"
      },
      "outputs": [
        {
          "output_type": "execute_result",
          "data": {
            "text/plain": [
              "['timestamp',\n",
              " 'visitorid',\n",
              " 'event',\n",
              " 'itemid',\n",
              " 'transactionid',\n",
              " 'hour_of_day',\n",
              " 'day_of_week',\n",
              " 'is_new_session',\n",
              " 'session_number',\n",
              " 'sessionid',\n",
              " 'views_last_24h',\n",
              " 'cart_conversion_rate',\n",
              " 'purchase_conversion_rate',\n",
              " 'label_interested',\n",
              " 'view_count',\n",
              " 'added_to_cart',\n",
              " 'dwell_time_secs']"
            ]
          },
          "metadata": {},
          "execution_count": 15
        }
      ],
      "source": [
        "model_data.columns\n",
        "\n"
      ]
    },
    {
      "cell_type": "code",
      "execution_count": 16,
      "metadata": {
        "id": "W_2XU6y3Q8WM"
      },
      "outputs": [],
      "source": [
        "model_data = model_data.with_columns(\n",
        "    pl.col(\"timestamp\").cast(pl.Datetime)\n",
        ")\n"
      ]
    },
    {
      "cell_type": "code",
      "execution_count": 17,
      "metadata": {
        "id": "TY54eCpORAAC"
      },
      "outputs": [],
      "source": [
        "ts_bounds = model_data.select([\n",
        "    pl.col(\"timestamp\").min().alias(\"min_ts\"),\n",
        "    pl.col(\"timestamp\").max().alias(\"max_ts\")\n",
        "])\n",
        "\n",
        "min_ts = ts_bounds[0, \"min_ts\"]\n",
        "max_ts = ts_bounds[0, \"max_ts\"]\n"
      ]
    },
    {
      "cell_type": "code",
      "execution_count": 18,
      "metadata": {
        "id": "AQE8rW5mSBV0"
      },
      "outputs": [],
      "source": [
        "split_ts = min_ts + (max_ts - min_ts) * 0.8\n"
      ]
    },
    {
      "cell_type": "code",
      "execution_count": 19,
      "metadata": {
        "colab": {
          "base_uri": "https://localhost:8080/"
        },
        "id": "qC-r036iSDHV",
        "outputId": "88f8e9b1-448f-4c82-a57d-07ff47c7a25e"
      },
      "outputs": [
        {
          "output_type": "stream",
          "name": "stdout",
          "text": [
            "Train: (2266414, 17)\n",
            "Test: (489687, 17)\n"
          ]
        }
      ],
      "source": [
        "train_data = model_data.filter(pl.col(\"timestamp\") < split_ts)\n",
        "test_data = model_data.filter(pl.col(\"timestamp\") >= split_ts)\n",
        "\n",
        "# Optional: Check sizes\n",
        "print(\"Train:\", train_data.shape)\n",
        "print(\"Test:\", test_data.shape)\n"
      ]
    },
    {
      "cell_type": "markdown",
      "metadata": {
        "id": "FOmYrx4KSZqn"
      },
      "source": [
        "Extract Features and Target from Polars"
      ]
    },
    {
      "cell_type": "code",
      "execution_count": 20,
      "metadata": {
        "id": "l7UJcJA2SYNI"
      },
      "outputs": [],
      "source": [
        "# Feature columns (based on your enriched features)\n",
        "feature_cols = [\n",
        "    \"hour_of_day\", \"day_of_week\", \"is_new_session\", \"session_number\",\n",
        "    \"views_last_24h\", \"cart_conversion_rate\", \"purchase_conversion_rate\",\n",
        "    \"view_count\", \"added_to_cart\", \"dwell_time_secs\"\n",
        "]\n",
        "target_col = \"label_interested\"\n",
        "\n",
        "# Convert to pandas for LightGBM\n",
        "df_train = train_data.select(feature_cols + [target_col]).to_pandas()\n",
        "df_test = test_data.select(feature_cols + [target_col]).to_pandas()\n",
        "\n",
        "X_train = df_train[feature_cols]\n",
        "y_train = df_train[target_col]\n",
        "X_test = df_test[feature_cols]\n",
        "y_test = df_test[target_col]\n"
      ]
    },
    {
      "cell_type": "code",
      "execution_count": 21,
      "metadata": {
        "colab": {
          "base_uri": "https://localhost:8080/"
        },
        "id": "m3WRSJohUEYC",
        "outputId": "9dff7391-5e92-464f-ec3a-eb00eb5072a8"
      },
      "outputs": [
        {
          "output_type": "stream",
          "name": "stdout",
          "text": [
            "Training until validation scores don't improve for 50 rounds\n",
            "[50]\tvalid_0's binary_logloss: 0.262734\n",
            "[100]\tvalid_0's binary_logloss: 0.146613\n",
            "[150]\tvalid_0's binary_logloss: 0.0853029\n",
            "[200]\tvalid_0's binary_logloss: 0.05064\n",
            "[250]\tvalid_0's binary_logloss: 0.0304219\n",
            "[300]\tvalid_0's binary_logloss: 0.0184325\n",
            "[350]\tvalid_0's binary_logloss: 0.0112589\n",
            "[400]\tvalid_0's binary_logloss: 0.00694198\n",
            "[450]\tvalid_0's binary_logloss: 0.00433827\n",
            "[500]\tvalid_0's binary_logloss: 0.00276481\n",
            "[550]\tvalid_0's binary_logloss: 0.00181253\n",
            "[600]\tvalid_0's binary_logloss: 0.00123631\n",
            "[650]\tvalid_0's binary_logloss: 0.000888026\n",
            "[700]\tvalid_0's binary_logloss: 0.000675528\n",
            "[750]\tvalid_0's binary_logloss: 0.000546641\n",
            "[800]\tvalid_0's binary_logloss: 0.000471018\n",
            "[850]\tvalid_0's binary_logloss: 0.000425582\n",
            "[900]\tvalid_0's binary_logloss: 0.000400713\n",
            "[950]\tvalid_0's binary_logloss: 0.000386738\n",
            "[1000]\tvalid_0's binary_logloss: 0.000378056\n",
            "Did not meet early stopping. Best iteration is:\n",
            "[1000]\tvalid_0's binary_logloss: 0.000378056\n"
          ]
        }
      ],
      "source": [
        "import lightgbm as lgb\n",
        "\n",
        "params = {\n",
        "    \"objective\": \"binary\",\n",
        "    \"metric\": \"binary_logloss\",\n",
        "    \"learning_rate\": 0.01,\n",
        "    \"boosting_type\": \"gbdt\",\n",
        "    \"verbosity\": -1\n",
        "}\n",
        "\n",
        "train_dataset = lgb.Dataset(X_train, label=y_train)\n",
        "valid_dataset = lgb.Dataset(X_test, label=y_test)\n",
        "\n",
        "model = lgb.train(\n",
        "    params,\n",
        "    train_dataset,\n",
        "    valid_sets=[valid_dataset],\n",
        "    num_boost_round=1000,\n",
        "    callbacks=[\n",
        "        lgb.early_stopping(stopping_rounds=50),\n",
        "        lgb.log_evaluation(period=50)  # Add this\n",
        "    ]\n",
        ")\n",
        "\n"
      ]
    },
    {
      "cell_type": "code",
      "execution_count": 22,
      "metadata": {
        "id": "gW1IP73WVdp7",
        "colab": {
          "base_uri": "https://localhost:8080/"
        },
        "outputId": "dddf733e-0e6c-445e-fdab-f7fcb8267d3a"
      },
      "outputs": [
        {
          "output_type": "stream",
          "name": "stdout",
          "text": [
            "[[378627     43]\n",
            " [    56 110961]]\n",
            "              precision    recall  f1-score   support\n",
            "\n",
            "           0     0.9999    0.9999    0.9999    378670\n",
            "           1     0.9996    0.9995    0.9996    111017\n",
            "\n",
            "    accuracy                         0.9998    489687\n",
            "   macro avg     0.9997    0.9997    0.9997    489687\n",
            "weighted avg     0.9998    0.9998    0.9998    489687\n",
            "\n"
          ]
        }
      ],
      "source": [
        "from sklearn.metrics import classification_report, confusion_matrix\n",
        "\n",
        "y_pred_proba = model.predict(X_test, num_iteration=model.best_iteration)\n",
        "y_pred = (y_pred_proba > 0.5).astype(int)\n",
        "\n",
        "print(confusion_matrix(y_test, y_pred))\n",
        "print(classification_report(y_test, y_pred, digits=4))\n"
      ]
    },
    {
      "cell_type": "code",
      "source": [
        "pip install mlflow\n"
      ],
      "metadata": {
        "colab": {
          "base_uri": "https://localhost:8080/"
        },
        "id": "3jUr6N1svHfL",
        "outputId": "25e0f677-4c01-4f5f-f3d4-60cd4297f61e"
      },
      "execution_count": 23,
      "outputs": [
        {
          "output_type": "stream",
          "name": "stdout",
          "text": [
            "Collecting mlflow\n",
            "  Downloading mlflow-3.1.3-py3-none-any.whl.metadata (29 kB)\n",
            "Collecting mlflow-skinny==3.1.3 (from mlflow)\n",
            "  Downloading mlflow_skinny-3.1.3-py3-none-any.whl.metadata (30 kB)\n",
            "Requirement already satisfied: Flask<4 in /usr/local/lib/python3.11/dist-packages (from mlflow) (3.1.1)\n",
            "Collecting alembic!=1.10.0,<2 (from mlflow)\n",
            "  Downloading alembic-1.16.4-py3-none-any.whl.metadata (7.3 kB)\n",
            "Collecting docker<8,>=4.0.0 (from mlflow)\n",
            "  Downloading docker-7.1.0-py3-none-any.whl.metadata (3.8 kB)\n",
            "Collecting graphene<4 (from mlflow)\n",
            "  Downloading graphene-3.4.3-py2.py3-none-any.whl.metadata (6.9 kB)\n",
            "Collecting gunicorn<24 (from mlflow)\n",
            "  Downloading gunicorn-23.0.0-py3-none-any.whl.metadata (4.4 kB)\n",
            "Requirement already satisfied: matplotlib<4 in /usr/local/lib/python3.11/dist-packages (from mlflow) (3.10.0)\n",
            "Requirement already satisfied: numpy<3 in /usr/local/lib/python3.11/dist-packages (from mlflow) (2.0.2)\n",
            "Requirement already satisfied: pandas<3 in /usr/local/lib/python3.11/dist-packages (from mlflow) (2.2.2)\n",
            "Requirement already satisfied: pyarrow<21,>=4.0.0 in /usr/local/lib/python3.11/dist-packages (from mlflow) (18.1.0)\n",
            "Requirement already satisfied: scikit-learn<2 in /usr/local/lib/python3.11/dist-packages (from mlflow) (1.6.1)\n",
            "Requirement already satisfied: scipy<2 in /usr/local/lib/python3.11/dist-packages (from mlflow) (1.16.0)\n",
            "Requirement already satisfied: sqlalchemy<3,>=1.4.0 in /usr/local/lib/python3.11/dist-packages (from mlflow) (2.0.41)\n",
            "Requirement already satisfied: cachetools<7,>=5.0.0 in /usr/local/lib/python3.11/dist-packages (from mlflow-skinny==3.1.3->mlflow) (5.5.2)\n",
            "Requirement already satisfied: click<9,>=7.0 in /usr/local/lib/python3.11/dist-packages (from mlflow-skinny==3.1.3->mlflow) (8.2.1)\n",
            "Requirement already satisfied: cloudpickle<4 in /usr/local/lib/python3.11/dist-packages (from mlflow-skinny==3.1.3->mlflow) (3.1.1)\n",
            "Collecting databricks-sdk<1,>=0.20.0 (from mlflow-skinny==3.1.3->mlflow)\n",
            "  Downloading databricks_sdk-0.59.0-py3-none-any.whl.metadata (39 kB)\n",
            "Requirement already satisfied: fastapi<1 in /usr/local/lib/python3.11/dist-packages (from mlflow-skinny==3.1.3->mlflow) (0.116.1)\n",
            "Requirement already satisfied: gitpython<4,>=3.1.9 in /usr/local/lib/python3.11/dist-packages (from mlflow-skinny==3.1.3->mlflow) (3.1.44)\n",
            "Requirement already satisfied: importlib_metadata!=4.7.0,<9,>=3.7.0 in /usr/local/lib/python3.11/dist-packages (from mlflow-skinny==3.1.3->mlflow) (8.7.0)\n",
            "Collecting opentelemetry-api<3,>=1.9.0 (from mlflow-skinny==3.1.3->mlflow)\n",
            "  Downloading opentelemetry_api-1.35.0-py3-none-any.whl.metadata (1.5 kB)\n",
            "Collecting opentelemetry-sdk<3,>=1.9.0 (from mlflow-skinny==3.1.3->mlflow)\n",
            "  Downloading opentelemetry_sdk-1.35.0-py3-none-any.whl.metadata (1.5 kB)\n",
            "Requirement already satisfied: packaging<26 in /usr/local/lib/python3.11/dist-packages (from mlflow-skinny==3.1.3->mlflow) (25.0)\n",
            "Requirement already satisfied: protobuf<7,>=3.12.0 in /usr/local/lib/python3.11/dist-packages (from mlflow-skinny==3.1.3->mlflow) (5.29.5)\n",
            "Requirement already satisfied: pydantic<3,>=1.10.8 in /usr/local/lib/python3.11/dist-packages (from mlflow-skinny==3.1.3->mlflow) (2.11.7)\n",
            "Requirement already satisfied: pyyaml<7,>=5.1 in /usr/local/lib/python3.11/dist-packages (from mlflow-skinny==3.1.3->mlflow) (6.0.2)\n",
            "Requirement already satisfied: requests<3,>=2.17.3 in /usr/local/lib/python3.11/dist-packages (from mlflow-skinny==3.1.3->mlflow) (2.32.3)\n",
            "Requirement already satisfied: sqlparse<1,>=0.4.0 in /usr/local/lib/python3.11/dist-packages (from mlflow-skinny==3.1.3->mlflow) (0.5.3)\n",
            "Requirement already satisfied: typing-extensions<5,>=4.0.0 in /usr/local/lib/python3.11/dist-packages (from mlflow-skinny==3.1.3->mlflow) (4.14.1)\n",
            "Requirement already satisfied: uvicorn<1 in /usr/local/lib/python3.11/dist-packages (from mlflow-skinny==3.1.3->mlflow) (0.35.0)\n",
            "Requirement already satisfied: Mako in /usr/lib/python3/dist-packages (from alembic!=1.10.0,<2->mlflow) (1.1.3)\n",
            "Requirement already satisfied: urllib3>=1.26.0 in /usr/local/lib/python3.11/dist-packages (from docker<8,>=4.0.0->mlflow) (2.5.0)\n",
            "Requirement already satisfied: blinker>=1.9.0 in /usr/local/lib/python3.11/dist-packages (from Flask<4->mlflow) (1.9.0)\n",
            "Requirement already satisfied: itsdangerous>=2.2.0 in /usr/local/lib/python3.11/dist-packages (from Flask<4->mlflow) (2.2.0)\n",
            "Requirement already satisfied: jinja2>=3.1.2 in /usr/local/lib/python3.11/dist-packages (from Flask<4->mlflow) (3.1.6)\n",
            "Requirement already satisfied: markupsafe>=2.1.1 in /usr/local/lib/python3.11/dist-packages (from Flask<4->mlflow) (3.0.2)\n",
            "Requirement already satisfied: werkzeug>=3.1.0 in /usr/local/lib/python3.11/dist-packages (from Flask<4->mlflow) (3.1.3)\n",
            "Collecting graphql-core<3.3,>=3.1 (from graphene<4->mlflow)\n",
            "  Downloading graphql_core-3.2.6-py3-none-any.whl.metadata (11 kB)\n",
            "Collecting graphql-relay<3.3,>=3.1 (from graphene<4->mlflow)\n",
            "  Downloading graphql_relay-3.2.0-py3-none-any.whl.metadata (12 kB)\n",
            "Requirement already satisfied: python-dateutil<3,>=2.7.0 in /usr/local/lib/python3.11/dist-packages (from graphene<4->mlflow) (2.9.0.post0)\n",
            "Requirement already satisfied: contourpy>=1.0.1 in /usr/local/lib/python3.11/dist-packages (from matplotlib<4->mlflow) (1.3.2)\n",
            "Requirement already satisfied: cycler>=0.10 in /usr/local/lib/python3.11/dist-packages (from matplotlib<4->mlflow) (0.12.1)\n",
            "Requirement already satisfied: fonttools>=4.22.0 in /usr/local/lib/python3.11/dist-packages (from matplotlib<4->mlflow) (4.59.0)\n",
            "Requirement already satisfied: kiwisolver>=1.3.1 in /usr/local/lib/python3.11/dist-packages (from matplotlib<4->mlflow) (1.4.8)\n",
            "Requirement already satisfied: pillow>=8 in /usr/local/lib/python3.11/dist-packages (from matplotlib<4->mlflow) (11.3.0)\n",
            "Requirement already satisfied: pyparsing>=2.3.1 in /usr/local/lib/python3.11/dist-packages (from matplotlib<4->mlflow) (3.2.3)\n",
            "Requirement already satisfied: pytz>=2020.1 in /usr/local/lib/python3.11/dist-packages (from pandas<3->mlflow) (2025.2)\n",
            "Requirement already satisfied: tzdata>=2022.7 in /usr/local/lib/python3.11/dist-packages (from pandas<3->mlflow) (2025.2)\n",
            "Requirement already satisfied: joblib>=1.2.0 in /usr/local/lib/python3.11/dist-packages (from scikit-learn<2->mlflow) (1.5.1)\n",
            "Requirement already satisfied: threadpoolctl>=3.1.0 in /usr/local/lib/python3.11/dist-packages (from scikit-learn<2->mlflow) (3.6.0)\n",
            "Requirement already satisfied: greenlet>=1 in /usr/local/lib/python3.11/dist-packages (from sqlalchemy<3,>=1.4.0->mlflow) (3.2.3)\n",
            "Requirement already satisfied: google-auth~=2.0 in /usr/local/lib/python3.11/dist-packages (from databricks-sdk<1,>=0.20.0->mlflow-skinny==3.1.3->mlflow) (2.38.0)\n",
            "Requirement already satisfied: starlette<0.48.0,>=0.40.0 in /usr/local/lib/python3.11/dist-packages (from fastapi<1->mlflow-skinny==3.1.3->mlflow) (0.47.1)\n",
            "Requirement already satisfied: gitdb<5,>=4.0.1 in /usr/local/lib/python3.11/dist-packages (from gitpython<4,>=3.1.9->mlflow-skinny==3.1.3->mlflow) (4.0.12)\n",
            "Requirement already satisfied: zipp>=3.20 in /usr/local/lib/python3.11/dist-packages (from importlib_metadata!=4.7.0,<9,>=3.7.0->mlflow-skinny==3.1.3->mlflow) (3.23.0)\n",
            "Collecting opentelemetry-semantic-conventions==0.56b0 (from opentelemetry-sdk<3,>=1.9.0->mlflow-skinny==3.1.3->mlflow)\n",
            "  Downloading opentelemetry_semantic_conventions-0.56b0-py3-none-any.whl.metadata (2.4 kB)\n",
            "Requirement already satisfied: annotated-types>=0.6.0 in /usr/local/lib/python3.11/dist-packages (from pydantic<3,>=1.10.8->mlflow-skinny==3.1.3->mlflow) (0.7.0)\n",
            "Requirement already satisfied: pydantic-core==2.33.2 in /usr/local/lib/python3.11/dist-packages (from pydantic<3,>=1.10.8->mlflow-skinny==3.1.3->mlflow) (2.33.2)\n",
            "Requirement already satisfied: typing-inspection>=0.4.0 in /usr/local/lib/python3.11/dist-packages (from pydantic<3,>=1.10.8->mlflow-skinny==3.1.3->mlflow) (0.4.1)\n",
            "Requirement already satisfied: six>=1.5 in /usr/local/lib/python3.11/dist-packages (from python-dateutil<3,>=2.7.0->graphene<4->mlflow) (1.17.0)\n",
            "Requirement already satisfied: charset-normalizer<4,>=2 in /usr/local/lib/python3.11/dist-packages (from requests<3,>=2.17.3->mlflow-skinny==3.1.3->mlflow) (3.4.2)\n",
            "Requirement already satisfied: idna<4,>=2.5 in /usr/local/lib/python3.11/dist-packages (from requests<3,>=2.17.3->mlflow-skinny==3.1.3->mlflow) (3.10)\n",
            "Requirement already satisfied: certifi>=2017.4.17 in /usr/local/lib/python3.11/dist-packages (from requests<3,>=2.17.3->mlflow-skinny==3.1.3->mlflow) (2025.7.14)\n",
            "Requirement already satisfied: h11>=0.8 in /usr/local/lib/python3.11/dist-packages (from uvicorn<1->mlflow-skinny==3.1.3->mlflow) (0.16.0)\n",
            "Requirement already satisfied: smmap<6,>=3.0.1 in /usr/local/lib/python3.11/dist-packages (from gitdb<5,>=4.0.1->gitpython<4,>=3.1.9->mlflow-skinny==3.1.3->mlflow) (5.0.2)\n",
            "Requirement already satisfied: pyasn1-modules>=0.2.1 in /usr/local/lib/python3.11/dist-packages (from google-auth~=2.0->databricks-sdk<1,>=0.20.0->mlflow-skinny==3.1.3->mlflow) (0.4.2)\n",
            "Requirement already satisfied: rsa<5,>=3.1.4 in /usr/local/lib/python3.11/dist-packages (from google-auth~=2.0->databricks-sdk<1,>=0.20.0->mlflow-skinny==3.1.3->mlflow) (4.9.1)\n",
            "Requirement already satisfied: anyio<5,>=3.6.2 in /usr/local/lib/python3.11/dist-packages (from starlette<0.48.0,>=0.40.0->fastapi<1->mlflow-skinny==3.1.3->mlflow) (4.9.0)\n",
            "Requirement already satisfied: sniffio>=1.1 in /usr/local/lib/python3.11/dist-packages (from anyio<5,>=3.6.2->starlette<0.48.0,>=0.40.0->fastapi<1->mlflow-skinny==3.1.3->mlflow) (1.3.1)\n",
            "Requirement already satisfied: pyasn1<0.7.0,>=0.6.1 in /usr/local/lib/python3.11/dist-packages (from pyasn1-modules>=0.2.1->google-auth~=2.0->databricks-sdk<1,>=0.20.0->mlflow-skinny==3.1.3->mlflow) (0.6.1)\n",
            "Downloading mlflow-3.1.3-py3-none-any.whl (24.7 MB)\n",
            "\u001b[2K   \u001b[90m━━━━━━━━━━━━━━━━━━━━━━━━━━━━━━━━━━━━━━━━\u001b[0m \u001b[32m24.7/24.7 MB\u001b[0m \u001b[31m34.8 MB/s\u001b[0m eta \u001b[36m0:00:00\u001b[0m\n",
            "\u001b[?25hDownloading mlflow_skinny-3.1.3-py3-none-any.whl (1.9 MB)\n",
            "\u001b[2K   \u001b[90m━━━━━━━━━━━━━━━━━━━━━━━━━━━━━━━━━━━━━━━━\u001b[0m \u001b[32m1.9/1.9 MB\u001b[0m \u001b[31m57.8 MB/s\u001b[0m eta \u001b[36m0:00:00\u001b[0m\n",
            "\u001b[?25hDownloading alembic-1.16.4-py3-none-any.whl (247 kB)\n",
            "\u001b[2K   \u001b[90m━━━━━━━━━━━━━━━━━━━━━━━━━━━━━━━━━━━━━━━━\u001b[0m \u001b[32m247.0/247.0 kB\u001b[0m \u001b[31m18.6 MB/s\u001b[0m eta \u001b[36m0:00:00\u001b[0m\n",
            "\u001b[?25hDownloading docker-7.1.0-py3-none-any.whl (147 kB)\n",
            "\u001b[2K   \u001b[90m━━━━━━━━━━━━━━━━━━━━━━━━━━━━━━━━━━━━━━━━\u001b[0m \u001b[32m147.8/147.8 kB\u001b[0m \u001b[31m10.5 MB/s\u001b[0m eta \u001b[36m0:00:00\u001b[0m\n",
            "\u001b[?25hDownloading graphene-3.4.3-py2.py3-none-any.whl (114 kB)\n",
            "\u001b[2K   \u001b[90m━━━━━━━━━━━━━━━━━━━━━━━━━━━━━━━━━━━━━━━━\u001b[0m \u001b[32m114.9/114.9 kB\u001b[0m \u001b[31m8.6 MB/s\u001b[0m eta \u001b[36m0:00:00\u001b[0m\n",
            "\u001b[?25hDownloading gunicorn-23.0.0-py3-none-any.whl (85 kB)\n",
            "\u001b[2K   \u001b[90m━━━━━━━━━━━━━━━━━━━━━━━━━━━━━━━━━━━━━━━━\u001b[0m \u001b[32m85.0/85.0 kB\u001b[0m \u001b[31m6.1 MB/s\u001b[0m eta \u001b[36m0:00:00\u001b[0m\n",
            "\u001b[?25hDownloading databricks_sdk-0.59.0-py3-none-any.whl (676 kB)\n",
            "\u001b[2K   \u001b[90m━━━━━━━━━━━━━━━━━━━━━━━━━━━━━━━━━━━━━━━━\u001b[0m \u001b[32m676.2/676.2 kB\u001b[0m \u001b[31m40.7 MB/s\u001b[0m eta \u001b[36m0:00:00\u001b[0m\n",
            "\u001b[?25hDownloading graphql_core-3.2.6-py3-none-any.whl (203 kB)\n",
            "\u001b[2K   \u001b[90m━━━━━━━━━━━━━━━━━━━━━━━━━━━━━━━━━━━━━━━━\u001b[0m \u001b[32m203.4/203.4 kB\u001b[0m \u001b[31m15.7 MB/s\u001b[0m eta \u001b[36m0:00:00\u001b[0m\n",
            "\u001b[?25hDownloading graphql_relay-3.2.0-py3-none-any.whl (16 kB)\n",
            "Downloading opentelemetry_api-1.35.0-py3-none-any.whl (65 kB)\n",
            "\u001b[2K   \u001b[90m━━━━━━━━━━━━━━━━━━━━━━━━━━━━━━━━━━━━━━━━\u001b[0m \u001b[32m65.6/65.6 kB\u001b[0m \u001b[31m4.9 MB/s\u001b[0m eta \u001b[36m0:00:00\u001b[0m\n",
            "\u001b[?25hDownloading opentelemetry_sdk-1.35.0-py3-none-any.whl (119 kB)\n",
            "\u001b[2K   \u001b[90m━━━━━━━━━━━━━━━━━━━━━━━━━━━━━━━━━━━━━━━━\u001b[0m \u001b[32m119.4/119.4 kB\u001b[0m \u001b[31m10.3 MB/s\u001b[0m eta \u001b[36m0:00:00\u001b[0m\n",
            "\u001b[?25hDownloading opentelemetry_semantic_conventions-0.56b0-py3-none-any.whl (201 kB)\n",
            "\u001b[2K   \u001b[90m━━━━━━━━━━━━━━━━━━━━━━━━━━━━━━━━━━━━━━━━\u001b[0m \u001b[32m201.6/201.6 kB\u001b[0m \u001b[31m15.0 MB/s\u001b[0m eta \u001b[36m0:00:00\u001b[0m\n",
            "\u001b[?25hInstalling collected packages: gunicorn, graphql-core, opentelemetry-api, graphql-relay, docker, alembic, opentelemetry-semantic-conventions, graphene, databricks-sdk, opentelemetry-sdk, mlflow-skinny, mlflow\n",
            "Successfully installed alembic-1.16.4 databricks-sdk-0.59.0 docker-7.1.0 graphene-3.4.3 graphql-core-3.2.6 graphql-relay-3.2.0 gunicorn-23.0.0 mlflow-3.1.3 mlflow-skinny-3.1.3 opentelemetry-api-1.35.0 opentelemetry-sdk-1.35.0 opentelemetry-semantic-conventions-0.56b0\n"
          ]
        }
      ]
    },
    {
      "cell_type": "code",
      "source": [
        "import mlflow\n",
        "import mlflow.lightgbm\n",
        "\n",
        "mlflow.set_experiment(\"interest-prediction\")\n"
      ],
      "metadata": {
        "colab": {
          "base_uri": "https://localhost:8080/"
        },
        "id": "oDRhs8bfvTjj",
        "outputId": "d39f0ca1-5999-4a7c-d873-813bff8d27d5"
      },
      "execution_count": 24,
      "outputs": [
        {
          "output_type": "stream",
          "name": "stderr",
          "text": [
            "2025/07/23 05:24:20 INFO mlflow.tracking.fluent: Experiment with name 'interest-prediction' does not exist. Creating a new experiment.\n"
          ]
        },
        {
          "output_type": "execute_result",
          "data": {
            "text/plain": [
              "<Experiment: artifact_location='file:///content/mlruns/736616955481254298', creation_time=1753248260126, experiment_id='736616955481254298', last_update_time=1753248260126, lifecycle_stage='active', name='interest-prediction', tags={}>"
            ]
          },
          "metadata": {},
          "execution_count": 24
        }
      ]
    },
    {
      "cell_type": "code",
      "source": [
        "with mlflow.start_run():\n",
        "    # Log LightGBM parameters\n",
        "    mlflow.log_params(params)\n",
        "\n",
        "    # Create LightGBM Datasets\n",
        "    train_data = lgb.Dataset(X_train, label=y_train)\n",
        "    test_data = lgb.Dataset(X_test, label=y_test, reference=train_data)\n",
        "\n",
        "    # Train the model\n",
        "    model = lgb.train(\n",
        "        params,\n",
        "        train_data,\n",
        "        num_boost_round=500,\n",
        "        valid_sets=[test_data],\n",
        "        callbacks=[lgb.early_stopping(stopping_rounds=20)]\n",
        "    )\n",
        "\n",
        "    # Predictions\n",
        "    y_pred = (model.predict(X_test, num_iteration=model.best_iteration) > 0.5).astype(int)\n",
        "\n",
        "    # Evaluation\n",
        "    report = classification_report(y_test, y_pred, output_dict=True)\n",
        "    cm = confusion_matrix(y_test, y_pred)\n",
        "\n",
        "    # Log metrics\n",
        "    mlflow.log_metric(\"accuracy\", report[\"accuracy\"])\n",
        "    mlflow.log_metric(\"precision_0\", report[\"0\"][\"precision\"])\n",
        "    mlflow.log_metric(\"recall_0\", report[\"0\"][\"recall\"])\n",
        "    mlflow.log_metric(\"f1_0\", report[\"0\"][\"f1-score\"])\n",
        "    mlflow.log_metric(\"precision_1\", report[\"1\"][\"precision\"])\n",
        "    mlflow.log_metric(\"recall_1\", report[\"1\"][\"recall\"])\n",
        "    mlflow.log_metric(\"f1_1\", report[\"1\"][\"f1-score\"])\n",
        "\n",
        "    # Log model\n",
        "    mlflow.lightgbm.log_model(model, \"model\")\n",
        "\n",
        "    # Log feature importance plot\n",
        "    fig = lgb.plot_importance(model)\n",
        "    plt.tight_layout()\n",
        "    plot_path = \"feature_importance.png\"\n",
        "    plt.savefig(plot_path)\n",
        "    mlflow.log_artifact(plot_path)\n",
        "\n",
        "    # Optionally log confusion matrix\n",
        "    import seaborn as sns\n",
        "    import pandas as pd\n",
        "\n",
        "    plt.figure(figsize=(6, 4))\n",
        "    sns.heatmap(pd.DataFrame(cm), annot=True, fmt=\"d\", cmap=\"Blues\")\n",
        "    plt.title(\"Confusion Matrix\")\n",
        "    plt.ylabel(\"Actual\")\n",
        "    plt.xlabel(\"Predicted\")\n",
        "    cm_path = \"confusion_matrix.png\"\n",
        "    plt.savefig(cm_path)\n",
        "    mlflow.log_artifact(cm_path)\n"
      ],
      "metadata": {
        "colab": {
          "base_uri": "https://localhost:8080/",
          "height": 989
        },
        "id": "chiYxFgIvXcR",
        "outputId": "322dbde3-5129-4e65-e9dc-fc347f23cdd2"
      },
      "execution_count": 26,
      "outputs": [
        {
          "output_type": "stream",
          "name": "stdout",
          "text": [
            "Training until validation scores don't improve for 20 rounds\n",
            "Did not meet early stopping. Best iteration is:\n",
            "[500]\tvalid_0's binary_logloss: 0.00276481\n"
          ]
        },
        {
          "output_type": "stream",
          "name": "stderr",
          "text": [
            "2025/07/23 05:26:44 WARNING mlflow.models.model: `artifact_path` is deprecated. Please use `name` instead.\n",
            "\u001b[31m2025/07/23 05:26:52 WARNING mlflow.models.model: Model logged without a signature and input example. Please set `input_example` parameter when logging the model to auto infer the model signature.\u001b[0m\n"
          ]
        },
        {
          "output_type": "display_data",
          "data": {
            "text/plain": [
              "<Figure size 640x480 with 1 Axes>"
            ],
            "image/png": "[encoded data removed]"
          },
          "metadata": {}
        },
        {
          "output_type": "display_data",
          "data": {
            "text/plain": [
              "<Figure size 600x400 with 2 Axes>"
            ],
            "image/png": "[encoded data removed]"
          },
          "metadata": {}
        }
      ]
    },
    {
      "cell_type": "code",
      "source": [
        "!pip install mlflow pyngrok --quiet\n"
      ],
      "metadata": {
        "id": "K4rIpalFyrh2"
      },
      "execution_count": 30,
      "outputs": []
    },
    {
      "cell_type": "code",
      "source": [
        "!ngrok config add-authtoken 30GM66SkZLdUsXin2Cigb419YwP_5MwXcsEfgG4AQBmLHfkvD"
      ],
      "metadata": {
        "colab": {
          "base_uri": "https://localhost:8080/"
        },
        "id": "8OL169Qpztv2",
        "outputId": "8dac6c66-034b-4103-9ac0-2e72e68876ca"
      },
      "execution_count": 32,
      "outputs": [
        {
          "output_type": "stream",
          "name": "stdout",
          "text": [
            "Authtoken saved to configuration file: /root/.config/ngrok/ngrok.yml\n"
          ]
        }
      ]
    },
    {
      "cell_type": "code",
      "source": [
        "import mlflow\n",
        "from pyngrok import ngrok\n",
        "\n",
        "# Kill any existing tunnels\n",
        "ngrok.kill()\n",
        "\n",
        "# Start MLflow UI on port 5000\n",
        "mlflow_port = 5000\n",
        "mlflow_uri = f\"http://127.0.0.1:{mlflow_port}\"\n",
        "ngrok_tunnel = ngrok.connect(mlflow_port)\n",
        "print(f\"MLflow UI available at: {ngrok_tunnel.public_url}\")\n",
        "\n",
        "# Launch MLflow UI (non-blocking)\n",
        "!mlflow ui --port 5000 --host 127.0.0.1 &\n"
      ],
      "metadata": {
        "colab": {
          "base_uri": "https://localhost:8080/"
        },
        "id": "KwbqNVpuyuq4",
        "outputId": "1acbb51a-7c12-4beb-95a7-a82ef5e047ae"
      },
      "execution_count": null,
      "outputs": [
        {
          "output_type": "stream",
          "name": "stdout",
          "text": [
            "MLflow UI available at: https://efd9def31a6f.ngrok-free.app\n",
            "[2025-07-23 05:49:46 +0000] [9784] [INFO] Starting gunicorn 23.0.0\n",
            "[2025-07-23 05:49:46 +0000] [9784] [INFO] Listening at: http://127.0.0.1:5000 (9784)\n",
            "[2025-07-23 05:49:46 +0000] [9784] [INFO] Using worker: sync\n",
            "[2025-07-23 05:49:46 +0000] [9789] [INFO] Booting worker with pid: 9789\n",
            "[2025-07-23 05:49:46 +0000] [9790] [INFO] Booting worker with pid: 9790\n",
            "[2025-07-23 05:49:46 +0000] [9791] [INFO] Booting worker with pid: 9791\n",
            "[2025-07-23 05:49:46 +0000] [9792] [INFO] Booting worker with pid: 9792\n"
          ]
        }
      ]
    },
    {
      "cell_type": "code",
      "source": [
        "import mlflow\n",
        "import mlflow.lightgbm\n",
        "from sklearn.metrics import accuracy_score, precision_score, recall_score, f1_score\n",
        "\n",
        "# Define experiment name\n",
        "mlflow.set_experiment(\"lightgbm-interest-prediction\")\n",
        "\n",
        "with mlflow.start_run():\n",
        "\n",
        "    # Log parameters\n",
        "    mlflow.log_params(params)\n",
        "\n",
        "    # Train model\n",
        "    model = lgb.train(\n",
        "        params,\n",
        "        train_data,\n",
        "        num_boost_round=500,\n",
        "        valid_sets=[test_data],\n",
        "        callbacks=[lgb.early_stopping(stopping_rounds=20)]\n",
        "    )\n",
        "\n",
        "    # Predict and evaluate\n",
        "    y_pred = (model.predict(X_test) > 0.5).astype(int)\n",
        "    acc = accuracy_score(y_test, y_pred)\n",
        "    prec = precision_score(y_test, y_pred)\n",
        "    rec = recall_score(y_test, y_pred)\n",
        "    f1 = f1_score(y_test, y_pred)\n",
        "\n",
        "    # Log metrics\n",
        "    mlflow.log_metric(\"accuracy\", acc)\n",
        "    mlflow.log_metric(\"precision\", prec)\n",
        "    mlflow.log_metric(\"recall\", rec)\n",
        "    mlflow.log_metric(\"f1_score\", f1)\n",
        "\n",
        "    # Log model\n",
        "    mlflow.lightgbm.log_model(model, \"model\")\n"
      ],
      "metadata": {
        "colab": {
          "base_uri": "https://localhost:8080/"
        },
        "id": "q60LmNGs0R0e",
        "outputId": "12cb48a3-eb8c-4ab9-8f55-299cbc5dfb64"
      },
      "execution_count": 34,
      "outputs": [
        {
          "output_type": "stream",
          "name": "stderr",
          "text": [
            "2025/07/23 05:47:54 INFO mlflow.tracking.fluent: Experiment with name 'lightgbm-interest-prediction' does not exist. Creating a new experiment.\n"
          ]
        },
        {
          "output_type": "stream",
          "name": "stdout",
          "text": [
            "Training until validation scores don't improve for 20 rounds\n",
            "Did not meet early stopping. Best iteration is:\n",
            "[500]\tvalid_0's binary_logloss: 0.00276481\n"
          ]
        },
        {
          "output_type": "stream",
          "name": "stderr",
          "text": [
            "2025/07/23 05:49:11 WARNING mlflow.models.model: `artifact_path` is deprecated. Please use `name` instead.\n",
            "\u001b[31m2025/07/23 05:49:17 WARNING mlflow.models.model: Model logged without a signature and input example. Please set `input_example` parameter when logging the model to auto infer the model signature.\u001b[0m\n"
          ]
        }
      ]
    }
  ],
  "metadata": {
    "colab": {
      "provenance": [],
      "authorship_tag": "ABX9TyN3PPTdZ0OwJjo5UzqgeGnL",
      "include_colab_link": true
    },
    "kernelspec": {
      "display_name": "Python 3",
      "name": "python3"
    },
    "language_info": {
      "name": "python"
    }
  },
  "nbformat": 4,
  "nbformat_minor": 0
}