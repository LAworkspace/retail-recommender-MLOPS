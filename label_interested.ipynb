{
  "nbformat": 4,
  "nbformat_minor": 0,
  "metadata": {
    "colab": {
      "provenance": [],
      "authorship_tag": "ABX9TyOTLr/K66r9uzDVHqNNwGQw",
      "include_colab_link": true
    },
    "kernelspec": {
      "name": "python3",
      "display_name": "Python 3"
    },
    "language_info": {
      "name": "python"
    }
  },
  "cells": [
    {
      "cell_type": "markdown",
      "metadata": {
        "id": "view-in-github",
        "colab_type": "text"
      },
      "source": [
        "<a href=\"https://colab.research.google.com/github/LAworkspace/retail-recommender-MLOPS/blob/main/label_interested.ipynb\" target=\"_parent\"><img src=\"https://colab.research.google.com/assets/colab-badge.svg\" alt=\"Open In Colab\"/></a>"
      ]
    },
    {
      "cell_type": "code",
      "execution_count": 2,
      "metadata": {
        "colab": {
          "base_uri": "https://localhost:8080/",
          "height": 362
        },
        "id": "R2R9u94Cezek",
        "outputId": "273fba7d-fda5-4fc0-c8a3-cd5cb058059c"
      },
      "outputs": [
        {
          "output_type": "execute_result",
          "data": {
            "text/plain": [
              "shape: (5, 13)\n",
              "┌─────────────┬───────────┬───────┬────────┬───┬───────────┬─────────────┬────────────┬────────────┐\n",
              "│ timestamp   ┆ visitorid ┆ event ┆ itemid ┆ … ┆ sessionid ┆ views_last_ ┆ cart_conve ┆ purchase_c │\n",
              "│ ---         ┆ ---       ┆ ---   ┆ ---    ┆   ┆ ---       ┆ 24h         ┆ rsion_rate ┆ onversion_ │\n",
              "│ datetime[ms ┆ i64       ┆ str   ┆ i64    ┆   ┆ str       ┆ ---         ┆ ---        ┆ rate       │\n",
              "│ ]           ┆           ┆       ┆        ┆   ┆           ┆ u32         ┆ f64        ┆ ---        │\n",
              "│             ┆           ┆       ┆        ┆   ┆           ┆             ┆            ┆ f64        │\n",
              "╞═════════════╪═══════════╪═══════╪════════╪═══╪═══════════╪═════════════╪════════════╪════════════╡\n",
              "│ 2015-09-11  ┆ 0         ┆ view  ┆ 285930 ┆ … ┆ 0_1       ┆ 0           ┆ 0.0        ┆ 0.0        │\n",
              "│ 20:49:49.43 ┆           ┆       ┆        ┆   ┆           ┆             ┆            ┆            │\n",
              "│ 9           ┆           ┆       ┆        ┆   ┆           ┆             ┆            ┆            │\n",
              "│ 2015-09-11  ┆ 0         ┆ view  ┆ 357564 ┆ … ┆ 0_1       ┆ 0           ┆ 0.0        ┆ 0.0        │\n",
              "│ 20:52:39.59 ┆           ┆       ┆        ┆   ┆           ┆             ┆            ┆            │\n",
              "│ 1           ┆           ┆       ┆        ┆   ┆           ┆             ┆            ┆            │\n",
              "│ 2015-09-11  ┆ 0         ┆ view  ┆ 67045  ┆ … ┆ 0_1       ┆ 0           ┆ 0.0        ┆ 0.0        │\n",
              "│ 20:55:17.17 ┆           ┆       ┆        ┆   ┆           ┆             ┆            ┆            │\n",
              "│ 5           ┆           ┆       ┆        ┆   ┆           ┆             ┆            ┆            │\n",
              "│ 2015-08-13  ┆ 1         ┆ view  ┆ 72028  ┆ … ┆ 1_1       ┆ 0           ┆ 0.0        ┆ 0.0        │\n",
              "│ 17:46:06.44 ┆           ┆       ┆        ┆   ┆           ┆             ┆            ┆            │\n",
              "│ 4           ┆           ┆       ┆        ┆   ┆           ┆             ┆            ┆            │\n",
              "│ 2015-08-07  ┆ 2         ┆ view  ┆ 325215 ┆ … ┆ 2_1       ┆ 0           ┆ 0.0        ┆ 0.0        │\n",
              "│ 17:51:44.56 ┆           ┆       ┆        ┆   ┆           ┆             ┆            ┆            │\n",
              "│ 7           ┆           ┆       ┆        ┆   ┆           ┆             ┆            ┆            │\n",
              "└─────────────┴───────────┴───────┴────────┴───┴───────────┴─────────────┴────────────┴────────────┘"
            ],
            "text/html": [
              "<div><style>\n",
              ".dataframe > thead > tr,\n",
              ".dataframe > tbody > tr {\n",
              "  text-align: right;\n",
              "  white-space: pre-wrap;\n",
              "}\n",
              "</style>\n",
              "<small>shape: (5, 13)</small><table border=\"1\" class=\"dataframe\"><thead><tr><th>timestamp</th><th>visitorid</th><th>event</th><th>itemid</th><th>transactionid</th><th>hour_of_day</th><th>day_of_week</th><th>is_new_session</th><th>session_number</th><th>sessionid</th><th>views_last_24h</th><th>cart_conversion_rate</th><th>purchase_conversion_rate</th></tr><tr><td>datetime[ms]</td><td>i64</td><td>str</td><td>i64</td><td>str</td><td>i8</td><td>i8</td><td>bool</td><td>i32</td><td>str</td><td>u32</td><td>f64</td><td>f64</td></tr></thead><tbody><tr><td>2015-09-11 20:49:49.439</td><td>0</td><td>&quot;view&quot;</td><td>285930</td><td>null</td><td>20</td><td>5</td><td>true</td><td>1</td><td>&quot;0_1&quot;</td><td>0</td><td>0.0</td><td>0.0</td></tr><tr><td>2015-09-11 20:52:39.591</td><td>0</td><td>&quot;view&quot;</td><td>357564</td><td>null</td><td>20</td><td>5</td><td>false</td><td>1</td><td>&quot;0_1&quot;</td><td>0</td><td>0.0</td><td>0.0</td></tr><tr><td>2015-09-11 20:55:17.175</td><td>0</td><td>&quot;view&quot;</td><td>67045</td><td>null</td><td>20</td><td>5</td><td>false</td><td>1</td><td>&quot;0_1&quot;</td><td>0</td><td>0.0</td><td>0.0</td></tr><tr><td>2015-08-13 17:46:06.444</td><td>1</td><td>&quot;view&quot;</td><td>72028</td><td>null</td><td>17</td><td>4</td><td>true</td><td>1</td><td>&quot;1_1&quot;</td><td>0</td><td>0.0</td><td>0.0</td></tr><tr><td>2015-08-07 17:51:44.567</td><td>2</td><td>&quot;view&quot;</td><td>325215</td><td>null</td><td>17</td><td>5</td><td>true</td><td>1</td><td>&quot;2_1&quot;</td><td>0</td><td>0.0</td><td>0.0</td></tr></tbody></table></div>"
            ]
          },
          "metadata": {},
          "execution_count": 2
        }
      ],
      "source": [
        "import polars as pl\n",
        "\n",
        "events = pl.read_parquet(\"enriched_events_with_conversion.parquet\")\n",
        "events.head()\n"
      ]
    },
    {
      "cell_type": "code",
      "source": [
        "!pip install polars\n"
      ],
      "metadata": {
        "colab": {
          "base_uri": "https://localhost:8080/"
        },
        "id": "vOW0ijyBfis9",
        "outputId": "20d2050a-a4e1-410a-c8c9-a020cabfbaa2"
      },
      "execution_count": 3,
      "outputs": [
        {
          "output_type": "stream",
          "name": "stdout",
          "text": [
            "Requirement already satisfied: polars in /usr/local/lib/python3.11/dist-packages (1.25.0)\n"
          ]
        }
      ]
    },
    {
      "cell_type": "code",
      "source": [
        "import polars as pl\n",
        "\n",
        "# Step 1: Create LazyFrame\n",
        "events = events.lazy()\n",
        "\n",
        "# Step 2: Mark (visitorid, itemid) pairs that had a cart or transaction\n",
        "interested_pairs = events.filter(\n",
        "    pl.col(\"event\").is_in([\"cart\", \"transaction\"])\n",
        ").select([\n",
        "    pl.col(\"visitorid\"),\n",
        "    pl.col(\"itemid\")\n",
        "]).unique()\n",
        "\n",
        "# Step 3: Join back to original data and mark \"interested\" as target\n",
        "events = events.with_columns([\n",
        "    pl.col(\"event\").alias(\"original_event\")  # backup original event column\n",
        "])\n",
        "\n",
        "events = events.join(\n",
        "    interested_pairs,\n",
        "    on=[\"visitorid\", \"itemid\"],\n",
        "    how=\"left\"\n",
        ").with_columns([\n",
        "    (pl.col(\"itemid_right\").is_not_null()).alias(\"interested\")\n",
        "]).drop(\"itemid_right\")\n"
      ],
      "metadata": {
        "id": "6LFQiuQXgZj3"
      },
      "execution_count": 4,
      "outputs": []
    },
    {
      "cell_type": "code",
      "source": [
        "import polars as pl\n",
        "\n",
        "# Load enriched parquet file\n",
        "events = pl.read_parquet(\"/content/enriched_events_with_conversion.parquet\")\n",
        "\n",
        "# Ensure timestamp is properly typed\n",
        "events = events.with_columns([\n",
        "    pl.col(\"timestamp\").cast(pl.Datetime)\n",
        "])\n"
      ],
      "metadata": {
        "id": "mCQBS3k9gbUF"
      },
      "execution_count": 6,
      "outputs": []
    },
    {
      "cell_type": "code",
      "source": [
        "agg = events.group_by([\"visitorid\", \"sessionid\", \"itemid\"]).agg([\n",
        "    pl.len().alias(\"total_events\"),\n",
        "    (pl.col(\"event\") == \"view\").cast(pl.Int8).sum().alias(\"view_count\"),\n",
        "    (pl.col(\"event\") == \"cart\").cast(pl.Int8).sum().alias(\"added_to_cart\"),\n",
        "    (pl.col(\"timestamp\").max() - pl.col(\"timestamp\").min()).dt.total_seconds().alias(\"dwell_time_secs\")\n",
        "])\n"
      ],
      "metadata": {
        "id": "TEkWwxzDhwOg"
      },
      "execution_count": 10,
      "outputs": []
    },
    {
      "cell_type": "code",
      "source": [
        "agg = agg.with_columns([\n",
        "    ((pl.col(\"view_count\") >= 2) |\n",
        "     (pl.col(\"added_to_cart\") > 0) |\n",
        "     (pl.col(\"dwell_time_secs\") > 20)).cast(pl.Int8).alias(\"label_interested\")\n",
        "])\n"
      ],
      "metadata": {
        "id": "yCRtSPcfiL40"
      },
      "execution_count": 11,
      "outputs": []
    },
    {
      "cell_type": "code",
      "source": [
        "events = events.join(\n",
        "    agg.select([\"visitorid\", \"sessionid\", \"itemid\", \"label_interested\"]),\n",
        "    on=[\"visitorid\", \"sessionid\", \"itemid\"],\n",
        "    how=\"left\"\n",
        ")\n"
      ],
      "metadata": {
        "colab": {
          "base_uri": "https://localhost:8080/",
          "height": 581
        },
        "id": "kCm2kZyAiQMG",
        "outputId": "106bd6b3-7aa0-450d-eb04-eaea051cc843"
      },
      "execution_count": 18,
      "outputs": [
        {
          "output_type": "error",
          "ename": "DuplicateError",
          "evalue": "column with name 'label_interested_right' already exists\n\nYou may want to try:\n- renaming the column prior to joining\n- using the `suffix` parameter to specify a suffix different to the default one ('_right')\n\nResolved plan until failure:\n\n\t---> FAILED HERE RESOLVING 'sink' <---\nDF [\"visitorid\", \"sessionid\", \"itemid\", \"label_interested\"]; PROJECT */4 COLUMNS",
          "traceback": [
            "\u001b[0;31m---------------------------------------------------------------------------\u001b[0m",
            "\u001b[0;31mDuplicateError\u001b[0m                            Traceback (most recent call last)",
            "\u001b[0;32m/tmp/ipython-input-18-3656927760.py\u001b[0m in \u001b[0;36m<cell line: 0>\u001b[0;34m()\u001b[0m\n\u001b[0;32m----> 1\u001b[0;31m events = events.join(\n\u001b[0m\u001b[1;32m      2\u001b[0m     \u001b[0magg\u001b[0m\u001b[0;34m.\u001b[0m\u001b[0mselect\u001b[0m\u001b[0;34m(\u001b[0m\u001b[0;34m[\u001b[0m\u001b[0;34m\"visitorid\"\u001b[0m\u001b[0;34m,\u001b[0m \u001b[0;34m\"sessionid\"\u001b[0m\u001b[0;34m,\u001b[0m \u001b[0;34m\"itemid\"\u001b[0m\u001b[0;34m,\u001b[0m \u001b[0;34m\"label_interested\"\u001b[0m\u001b[0;34m]\u001b[0m\u001b[0;34m)\u001b[0m\u001b[0;34m,\u001b[0m\u001b[0;34m\u001b[0m\u001b[0;34m\u001b[0m\u001b[0m\n\u001b[1;32m      3\u001b[0m     \u001b[0mon\u001b[0m\u001b[0;34m=\u001b[0m\u001b[0;34m[\u001b[0m\u001b[0;34m\"visitorid\"\u001b[0m\u001b[0;34m,\u001b[0m \u001b[0;34m\"sessionid\"\u001b[0m\u001b[0;34m,\u001b[0m \u001b[0;34m\"itemid\"\u001b[0m\u001b[0;34m]\u001b[0m\u001b[0;34m,\u001b[0m\u001b[0;34m\u001b[0m\u001b[0;34m\u001b[0m\u001b[0m\n\u001b[1;32m      4\u001b[0m     \u001b[0mhow\u001b[0m\u001b[0;34m=\u001b[0m\u001b[0;34m\"left\"\u001b[0m\u001b[0;34m\u001b[0m\u001b[0;34m\u001b[0m\u001b[0m\n\u001b[1;32m      5\u001b[0m )\n",
            "\u001b[0;32m/usr/local/lib/python3.11/dist-packages/polars/_utils/deprecation.py\u001b[0m in \u001b[0;36mwrapper\u001b[0;34m(*args, **kwargs)\u001b[0m\n\u001b[1;32m    112\u001b[0m                 \u001b[0mold_name\u001b[0m\u001b[0;34m,\u001b[0m \u001b[0mnew_name\u001b[0m\u001b[0;34m,\u001b[0m \u001b[0mkwargs\u001b[0m\u001b[0;34m,\u001b[0m \u001b[0mfunction\u001b[0m\u001b[0;34m.\u001b[0m\u001b[0m__qualname__\u001b[0m\u001b[0;34m,\u001b[0m \u001b[0mversion\u001b[0m\u001b[0;34m\u001b[0m\u001b[0;34m\u001b[0m\u001b[0m\n\u001b[1;32m    113\u001b[0m             )\n\u001b[0;32m--> 114\u001b[0;31m             \u001b[0;32mreturn\u001b[0m \u001b[0mfunction\u001b[0m\u001b[0;34m(\u001b[0m\u001b[0;34m*\u001b[0m\u001b[0margs\u001b[0m\u001b[0;34m,\u001b[0m \u001b[0;34m**\u001b[0m\u001b[0mkwargs\u001b[0m\u001b[0;34m)\u001b[0m\u001b[0;34m\u001b[0m\u001b[0;34m\u001b[0m\u001b[0m\n\u001b[0m\u001b[1;32m    115\u001b[0m \u001b[0;34m\u001b[0m\u001b[0m\n\u001b[1;32m    116\u001b[0m         \u001b[0mwrapper\u001b[0m\u001b[0;34m.\u001b[0m\u001b[0m__signature__\u001b[0m \u001b[0;34m=\u001b[0m \u001b[0minspect\u001b[0m\u001b[0;34m.\u001b[0m\u001b[0msignature\u001b[0m\u001b[0;34m(\u001b[0m\u001b[0mfunction\u001b[0m\u001b[0;34m)\u001b[0m  \u001b[0;31m# type: ignore[attr-defined]\u001b[0m\u001b[0;34m\u001b[0m\u001b[0;34m\u001b[0m\u001b[0m\n",
            "\u001b[0;32m/usr/local/lib/python3.11/dist-packages/polars/dataframe/frame.py\u001b[0m in \u001b[0;36mjoin\u001b[0;34m(self, other, on, how, left_on, right_on, suffix, validate, nulls_equal, coalesce, maintain_order)\u001b[0m\n\u001b[1;32m   7762\u001b[0m                 \u001b[0mmaintain_order\u001b[0m\u001b[0;34m=\u001b[0m\u001b[0mmaintain_order\u001b[0m\u001b[0;34m,\u001b[0m\u001b[0;34m\u001b[0m\u001b[0;34m\u001b[0m\u001b[0m\n\u001b[1;32m   7763\u001b[0m             )\n\u001b[0;32m-> 7764\u001b[0;31m             \u001b[0;34m.\u001b[0m\u001b[0mcollect\u001b[0m\u001b[0;34m(\u001b[0m\u001b[0m_eager\u001b[0m\u001b[0;34m=\u001b[0m\u001b[0;32mTrue\u001b[0m\u001b[0;34m)\u001b[0m\u001b[0;34m\u001b[0m\u001b[0;34m\u001b[0m\u001b[0m\n\u001b[0m\u001b[1;32m   7765\u001b[0m         )\n\u001b[1;32m   7766\u001b[0m \u001b[0;34m\u001b[0m\u001b[0m\n",
            "\u001b[0;32m/usr/local/lib/python3.11/dist-packages/polars/_utils/deprecation.py\u001b[0m in \u001b[0;36mwrapper\u001b[0;34m(*args, **kwargs)\u001b[0m\n\u001b[1;32m     86\u001b[0m                 \u001b[0mkwargs\u001b[0m\u001b[0;34m[\u001b[0m\u001b[0;34m\"engine\"\u001b[0m\u001b[0;34m]\u001b[0m \u001b[0;34m=\u001b[0m \u001b[0;34m\"old-streaming\"\u001b[0m\u001b[0;34m\u001b[0m\u001b[0;34m\u001b[0m\u001b[0m\n\u001b[1;32m     87\u001b[0m \u001b[0;34m\u001b[0m\u001b[0m\n\u001b[0;32m---> 88\u001b[0;31m             \u001b[0;32mreturn\u001b[0m \u001b[0mfunction\u001b[0m\u001b[0;34m(\u001b[0m\u001b[0;34m*\u001b[0m\u001b[0margs\u001b[0m\u001b[0;34m,\u001b[0m \u001b[0;34m**\u001b[0m\u001b[0mkwargs\u001b[0m\u001b[0;34m)\u001b[0m\u001b[0;34m\u001b[0m\u001b[0;34m\u001b[0m\u001b[0m\n\u001b[0m\u001b[1;32m     89\u001b[0m \u001b[0;34m\u001b[0m\u001b[0m\n\u001b[1;32m     90\u001b[0m         \u001b[0mwrapper\u001b[0m\u001b[0;34m.\u001b[0m\u001b[0m__signature__\u001b[0m \u001b[0;34m=\u001b[0m \u001b[0minspect\u001b[0m\u001b[0;34m.\u001b[0m\u001b[0msignature\u001b[0m\u001b[0;34m(\u001b[0m\u001b[0mfunction\u001b[0m\u001b[0;34m)\u001b[0m  \u001b[0;31m# type: ignore[attr-defined]\u001b[0m\u001b[0;34m\u001b[0m\u001b[0;34m\u001b[0m\u001b[0m\n",
            "\u001b[0;32m/usr/local/lib/python3.11/dist-packages/polars/lazyframe/frame.py\u001b[0m in \u001b[0;36mcollect\u001b[0;34m(self, type_coercion, _type_check, predicate_pushdown, projection_pushdown, simplify_expression, slice_pushdown, comm_subplan_elim, comm_subexpr_elim, cluster_with_columns, collapse_joins, no_optimization, engine, background, _check_order, _eager, **_kwargs)\u001b[0m\n\u001b[1;32m   2186\u001b[0m         \u001b[0;31m# Only for testing purposes\u001b[0m\u001b[0;34m\u001b[0m\u001b[0;34m\u001b[0m\u001b[0m\n\u001b[1;32m   2187\u001b[0m         \u001b[0mcallback\u001b[0m \u001b[0;34m=\u001b[0m \u001b[0m_kwargs\u001b[0m\u001b[0;34m.\u001b[0m\u001b[0mget\u001b[0m\u001b[0;34m(\u001b[0m\u001b[0;34m\"post_opt_callback\"\u001b[0m\u001b[0;34m,\u001b[0m \u001b[0mcallback\u001b[0m\u001b[0;34m)\u001b[0m\u001b[0;34m\u001b[0m\u001b[0;34m\u001b[0m\u001b[0m\n\u001b[0;32m-> 2188\u001b[0;31m         \u001b[0;32mreturn\u001b[0m \u001b[0mwrap_df\u001b[0m\u001b[0;34m(\u001b[0m\u001b[0mldf\u001b[0m\u001b[0;34m.\u001b[0m\u001b[0mcollect\u001b[0m\u001b[0;34m(\u001b[0m\u001b[0mengine\u001b[0m\u001b[0;34m,\u001b[0m \u001b[0mcallback\u001b[0m\u001b[0;34m)\u001b[0m\u001b[0;34m)\u001b[0m\u001b[0;34m\u001b[0m\u001b[0;34m\u001b[0m\u001b[0m\n\u001b[0m\u001b[1;32m   2189\u001b[0m \u001b[0;34m\u001b[0m\u001b[0m\n\u001b[1;32m   2190\u001b[0m     \u001b[0;34m@\u001b[0m\u001b[0moverload\u001b[0m\u001b[0;34m\u001b[0m\u001b[0;34m\u001b[0m\u001b[0m\n",
            "\u001b[0;31mDuplicateError\u001b[0m: column with name 'label_interested_right' already exists\n\nYou may want to try:\n- renaming the column prior to joining\n- using the `suffix` parameter to specify a suffix different to the default one ('_right')\n\nResolved plan until failure:\n\n\t---> FAILED HERE RESOLVING 'sink' <---\nDF [\"visitorid\", \"sessionid\", \"itemid\", \"label_interested\"]; PROJECT */4 COLUMNS"
          ]
        }
      ]
    },
    {
      "cell_type": "code",
      "source": [
        "print(events.schema)\n"
      ],
      "metadata": {
        "colab": {
          "base_uri": "https://localhost:8080/"
        },
        "id": "0x8eqa-1iixc",
        "outputId": "51338147-e164-4a28-ab1e-6df2b2a77e81"
      },
      "execution_count": 13,
      "outputs": [
        {
          "output_type": "stream",
          "name": "stdout",
          "text": [
            "Schema([('timestamp', Datetime(time_unit='us', time_zone=None)), ('visitorid', Int64), ('event', String), ('itemid', Int64), ('transactionid', String), ('hour_of_day', Int8), ('day_of_week', Int8), ('is_new_session', Boolean), ('session_number', Int32), ('sessionid', String), ('views_last_24h', UInt32), ('cart_conversion_rate', Float64), ('purchase_conversion_rate', Float64), ('label_interested', Int8)])\n"
          ]
        }
      ]
    },
    {
      "cell_type": "code",
      "source": [
        "events.filter(pl.col(\"label_interested\").is_not_null()).head(10)\n"
      ],
      "metadata": {
        "colab": {
          "base_uri": "https://localhost:8080/",
          "height": 605
        },
        "id": "bUovkS_oindI",
        "outputId": "5373029f-499f-4b3b-c52b-fd674291e98f"
      },
      "execution_count": 14,
      "outputs": [
        {
          "output_type": "execute_result",
          "data": {
            "text/plain": [
              "shape: (10, 14)\n",
              "┌─────────────┬───────────┬───────┬────────┬───┬────────────┬────────────┬────────────┬────────────┐\n",
              "│ timestamp   ┆ visitorid ┆ event ┆ itemid ┆ … ┆ views_last ┆ cart_conve ┆ purchase_c ┆ label_inte │\n",
              "│ ---         ┆ ---       ┆ ---   ┆ ---    ┆   ┆ _24h       ┆ rsion_rate ┆ onversion_ ┆ rested     │\n",
              "│ datetime[μs ┆ i64       ┆ str   ┆ i64    ┆   ┆ ---        ┆ ---        ┆ rate       ┆ ---        │\n",
              "│ ]           ┆           ┆       ┆        ┆   ┆ u32        ┆ f64        ┆ ---        ┆ i8         │\n",
              "│             ┆           ┆       ┆        ┆   ┆            ┆            ┆ f64        ┆            │\n",
              "╞═════════════╪═══════════╪═══════╪════════╪═══╪════════════╪════════════╪════════════╪════════════╡\n",
              "│ 2015-09-11  ┆ 0         ┆ view  ┆ 285930 ┆ … ┆ 0          ┆ 0.0        ┆ 0.0        ┆ 0          │\n",
              "│ 20:49:49.43 ┆           ┆       ┆        ┆   ┆            ┆            ┆            ┆            │\n",
              "│ 9           ┆           ┆       ┆        ┆   ┆            ┆            ┆            ┆            │\n",
              "│ 2015-09-11  ┆ 0         ┆ view  ┆ 357564 ┆ … ┆ 0          ┆ 0.0        ┆ 0.0        ┆ 0          │\n",
              "│ 20:52:39.59 ┆           ┆       ┆        ┆   ┆            ┆            ┆            ┆            │\n",
              "│ 1           ┆           ┆       ┆        ┆   ┆            ┆            ┆            ┆            │\n",
              "│ 2015-09-11  ┆ 0         ┆ view  ┆ 67045  ┆ … ┆ 0          ┆ 0.0        ┆ 0.0        ┆ 0          │\n",
              "│ 20:55:17.17 ┆           ┆       ┆        ┆   ┆            ┆            ┆            ┆            │\n",
              "│ 5           ┆           ┆       ┆        ┆   ┆            ┆            ┆            ┆            │\n",
              "│ 2015-08-13  ┆ 1         ┆ view  ┆ 72028  ┆ … ┆ 0          ┆ 0.0        ┆ 0.0        ┆ 0          │\n",
              "│ 17:46:06.44 ┆           ┆       ┆        ┆   ┆            ┆            ┆            ┆            │\n",
              "│ 4           ┆           ┆       ┆        ┆   ┆            ┆            ┆            ┆            │\n",
              "│ 2015-08-07  ┆ 2         ┆ view  ┆ 325215 ┆ … ┆ 0          ┆ 0.0        ┆ 0.0        ┆ 1          │\n",
              "│ 17:51:44.56 ┆           ┆       ┆        ┆   ┆            ┆            ┆            ┆            │\n",
              "│ 7           ┆           ┆       ┆        ┆   ┆            ┆            ┆            ┆            │\n",
              "│ 2015-08-07  ┆ 2         ┆ view  ┆ 325215 ┆ … ┆ 0          ┆ 0.0        ┆ 0.0        ┆ 1          │\n",
              "│ 17:53:33.79 ┆           ┆       ┆        ┆   ┆            ┆            ┆            ┆            │\n",
              "│ 0           ┆           ┆       ┆        ┆   ┆            ┆            ┆            ┆            │\n",
              "│ 2015-08-07  ┆ 2         ┆ view  ┆ 259884 ┆ … ┆ 0          ┆ 0.0        ┆ 0.0        ┆ 0          │\n",
              "│ 17:56:52.66 ┆           ┆       ┆        ┆   ┆            ┆            ┆            ┆            │\n",
              "│ 4           ┆           ┆       ┆        ┆   ┆            ┆            ┆            ┆            │\n",
              "│ 2015-08-07  ┆ 2         ┆ view  ┆ 216305 ┆ … ┆ 0          ┆ 0.0        ┆ 0.0        ┆ 1          │\n",
              "│ 18:01:08.92 ┆           ┆       ┆        ┆   ┆            ┆            ┆            ┆            │\n",
              "│ 0           ┆           ┆       ┆        ┆   ┆            ┆            ┆            ┆            │\n",
              "│ 2015-08-07  ┆ 2         ┆ view  ┆ 342816 ┆ … ┆ 0          ┆ 0.0        ┆ 0.0        ┆ 1          │\n",
              "│ 18:08:25.66 ┆           ┆       ┆        ┆   ┆            ┆            ┆            ┆            │\n",
              "│ 9           ┆           ┆       ┆        ┆   ┆            ┆            ┆            ┆            │\n",
              "│ 2015-08-07  ┆ 2         ┆ view  ┆ 342816 ┆ … ┆ 0          ┆ 0.0        ┆ 0.0        ┆ 1          │\n",
              "│ 18:17:24.37 ┆           ┆       ┆        ┆   ┆            ┆            ┆            ┆            │\n",
              "│ 5           ┆           ┆       ┆        ┆   ┆            ┆            ┆            ┆            │\n",
              "└─────────────┴───────────┴───────┴────────┴───┴────────────┴────────────┴────────────┴────────────┘"
            ],
            "text/html": [
              "<div><style>\n",
              ".dataframe > thead > tr,\n",
              ".dataframe > tbody > tr {\n",
              "  text-align: right;\n",
              "  white-space: pre-wrap;\n",
              "}\n",
              "</style>\n",
              "<small>shape: (10, 14)</small><table border=\"1\" class=\"dataframe\"><thead><tr><th>timestamp</th><th>visitorid</th><th>event</th><th>itemid</th><th>transactionid</th><th>hour_of_day</th><th>day_of_week</th><th>is_new_session</th><th>session_number</th><th>sessionid</th><th>views_last_24h</th><th>cart_conversion_rate</th><th>purchase_conversion_rate</th><th>label_interested</th></tr><tr><td>datetime[μs]</td><td>i64</td><td>str</td><td>i64</td><td>str</td><td>i8</td><td>i8</td><td>bool</td><td>i32</td><td>str</td><td>u32</td><td>f64</td><td>f64</td><td>i8</td></tr></thead><tbody><tr><td>2015-09-11 20:49:49.439</td><td>0</td><td>&quot;view&quot;</td><td>285930</td><td>null</td><td>20</td><td>5</td><td>true</td><td>1</td><td>&quot;0_1&quot;</td><td>0</td><td>0.0</td><td>0.0</td><td>0</td></tr><tr><td>2015-09-11 20:52:39.591</td><td>0</td><td>&quot;view&quot;</td><td>357564</td><td>null</td><td>20</td><td>5</td><td>false</td><td>1</td><td>&quot;0_1&quot;</td><td>0</td><td>0.0</td><td>0.0</td><td>0</td></tr><tr><td>2015-09-11 20:55:17.175</td><td>0</td><td>&quot;view&quot;</td><td>67045</td><td>null</td><td>20</td><td>5</td><td>false</td><td>1</td><td>&quot;0_1&quot;</td><td>0</td><td>0.0</td><td>0.0</td><td>0</td></tr><tr><td>2015-08-13 17:46:06.444</td><td>1</td><td>&quot;view&quot;</td><td>72028</td><td>null</td><td>17</td><td>4</td><td>true</td><td>1</td><td>&quot;1_1&quot;</td><td>0</td><td>0.0</td><td>0.0</td><td>0</td></tr><tr><td>2015-08-07 17:51:44.567</td><td>2</td><td>&quot;view&quot;</td><td>325215</td><td>null</td><td>17</td><td>5</td><td>true</td><td>1</td><td>&quot;2_1&quot;</td><td>0</td><td>0.0</td><td>0.0</td><td>1</td></tr><tr><td>2015-08-07 17:53:33.790</td><td>2</td><td>&quot;view&quot;</td><td>325215</td><td>null</td><td>17</td><td>5</td><td>false</td><td>1</td><td>&quot;2_1&quot;</td><td>0</td><td>0.0</td><td>0.0</td><td>1</td></tr><tr><td>2015-08-07 17:56:52.664</td><td>2</td><td>&quot;view&quot;</td><td>259884</td><td>null</td><td>17</td><td>5</td><td>false</td><td>1</td><td>&quot;2_1&quot;</td><td>0</td><td>0.0</td><td>0.0</td><td>0</td></tr><tr><td>2015-08-07 18:01:08.920</td><td>2</td><td>&quot;view&quot;</td><td>216305</td><td>null</td><td>18</td><td>5</td><td>false</td><td>1</td><td>&quot;2_1&quot;</td><td>0</td><td>0.0</td><td>0.0</td><td>1</td></tr><tr><td>2015-08-07 18:08:25.669</td><td>2</td><td>&quot;view&quot;</td><td>342816</td><td>null</td><td>18</td><td>5</td><td>false</td><td>1</td><td>&quot;2_1&quot;</td><td>0</td><td>0.0</td><td>0.0</td><td>1</td></tr><tr><td>2015-08-07 18:17:24.375</td><td>2</td><td>&quot;view&quot;</td><td>342816</td><td>null</td><td>18</td><td>5</td><td>false</td><td>1</td><td>&quot;2_1&quot;</td><td>0</td><td>0.0</td><td>0.0</td><td>1</td></tr></tbody></table></div>"
            ]
          },
          "metadata": {},
          "execution_count": 14
        }
      ]
    },
    {
      "cell_type": "code",
      "source": [
        "# Count how many rows have label_interested = 1\n",
        "events.filter(pl.col(\"label_interested\") == 1).shape\n"
      ],
      "metadata": {
        "colab": {
          "base_uri": "https://localhost:8080/"
        },
        "id": "nVMooZgkipl5",
        "outputId": "53be7707-923c-44f4-9f76-ef228e5d5316"
      },
      "execution_count": 15,
      "outputs": [
        {
          "output_type": "execute_result",
          "data": {
            "text/plain": [
              "(667775, 14)"
            ]
          },
          "metadata": {},
          "execution_count": 15
        }
      ]
    },
    {
      "cell_type": "code",
      "source": [
        "events.select([\n",
        "    pl.col(\"label_interested\").value_counts()\n",
        "])\n"
      ],
      "metadata": {
        "colab": {
          "base_uri": "https://localhost:8080/",
          "height": 181
        },
        "id": "5hdwvTtjiruk",
        "outputId": "e8a89707-6572-413d-c8e6-aee2cdbf37cd"
      },
      "execution_count": 16,
      "outputs": [
        {
          "output_type": "execute_result",
          "data": {
            "text/plain": [
              "shape: (2, 1)\n",
              "┌──────────────────┐\n",
              "│ label_interested │\n",
              "│ ---              │\n",
              "│ struct[2]        │\n",
              "╞══════════════════╡\n",
              "│ {0,2088326}      │\n",
              "│ {1,667775}       │\n",
              "└──────────────────┘"
            ],
            "text/html": [
              "<div><style>\n",
              ".dataframe > thead > tr,\n",
              ".dataframe > tbody > tr {\n",
              "  text-align: right;\n",
              "  white-space: pre-wrap;\n",
              "}\n",
              "</style>\n",
              "<small>shape: (2, 1)</small><table border=\"1\" class=\"dataframe\"><thead><tr><th>label_interested</th></tr><tr><td>struct[2]</td></tr></thead><tbody><tr><td>{0,2088326}</td></tr><tr><td>{1,667775}</td></tr></tbody></table></div>"
            ]
          },
          "metadata": {},
          "execution_count": 16
        }
      ]
    }
  ]
}