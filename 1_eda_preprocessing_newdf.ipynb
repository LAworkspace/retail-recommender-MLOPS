{
  "cells": [
    {
      "cell_type": "markdown",
      "metadata": {
        "id": "view-in-github",
        "colab_type": "text"
      },
      "source": [
        "<a href=\"https://colab.research.google.com/github/LAworkspace/retail-recommender-MLOPS/blob/main/1_eda_preprocessing_newdf.ipynb\" target=\"_parent\"><img src=\"https://colab.research.google.com/assets/colab-badge.svg\" alt=\"Open In Colab\"/></a>"
      ]
    },
    {
      "cell_type": "code",
      "source": [
        "import numpy as np\n",
        "import polars as pl\n",
        "import seaborn as sns\n",
        "import matplotlib.pyplot as plt\n"
      ],
      "metadata": {
        "id": "KfnYBUw0qco-"
      },
      "execution_count": 1,
      "outputs": []
    },
    {
      "cell_type": "code",
      "source": [
        "import polars as pl\n",
        "\n",
        "events = pl.read_csv(\"/content/events.csv\")\n",
        "category_tree = pl.read_csv(\"/content/category_tree.csv\")\n",
        "\n",
        "# Define column names\n",
        "columns_part1 = [\"timestamp\", \"itemid\", \"property\", \"value\"]\n",
        "columns_part2 = [\"timestamp\", \"itemid\", \"property\"]  # only 3 columns in part2\n",
        "\n",
        "# Read CSVs with correct headers\n",
        "item_properties_part1 = pl.read_csv(\"/content/item_properties_part1.csv\", has_header=False, new_columns=columns_part1)\n",
        "item_properties_part2 = pl.read_csv(\"/content/item_properties_part2.csv\", has_header=False, truncate_ragged_lines=True, new_columns=columns_part2)\n",
        "\n",
        "# Add 'value' as a string \"0\"\n",
        "item_properties_part2 = item_properties_part2.with_columns([\n",
        "    pl.lit(\"0\").alias(\"value\")  # ensure it's a string\n",
        "])\n",
        "\n",
        "# Ensure column order matches\n",
        "item_properties_part2 = item_properties_part2.select(columns_part1)\n",
        "\n",
        "# Merge both\n",
        "item_properties = pl.concat([item_properties_part1, item_properties_part2], how=\"vertical\")\n",
        "\n",
        "# ✅ Output check\n",
        "print(\"✅ Combined item_properties shape:\", item_properties.shape)\n",
        "print(item_properties.head())\n"
      ],
      "metadata": {
        "colab": {
          "base_uri": "https://localhost:8080/"
        },
        "id": "XchDJehEqdaL",
        "outputId": "7a47c341-d2ab-42c7-ef86-9ba36aa1bf0a"
      },
      "execution_count": 2,
      "outputs": [
        {
          "output_type": "stream",
          "name": "stdout",
          "text": [
            "✅ Combined item_properties shape: (20275904, 4)\n",
            "shape: (5, 4)\n",
            "┌───────────────┬────────┬────────────┬─────────────────────────────────┐\n",
            "│ timestamp     ┆ itemid ┆ property   ┆ value                           │\n",
            "│ ---           ┆ ---    ┆ ---        ┆ ---                             │\n",
            "│ str           ┆ str    ┆ str        ┆ str                             │\n",
            "╞═══════════════╪════════╪════════════╪═════════════════════════════════╡\n",
            "│ timestamp     ┆ itemid ┆ property   ┆ value                           │\n",
            "│ 1435460400000 ┆ 460429 ┆ categoryid ┆ 1338                            │\n",
            "│ 1441508400000 ┆ 206783 ┆ 888        ┆ 1116713 960601 n277.200         │\n",
            "│ 1439089200000 ┆ 395014 ┆ 400        ┆ n552.000 639502 n720.000 42456… │\n",
            "│ 1431226800000 ┆ 59481  ┆ 790        ┆ n15360.000                      │\n",
            "└───────────────┴────────┴────────────┴─────────────────────────────────┘\n"
          ]
        }
      ]
    },
    {
      "cell_type": "code",
      "source": [
        "print(\"Events DataFrame:\")\n",
        "print(events.head())\n",
        "\n",
        "print(\"\\nCategory Tree DataFrame:\")\n",
        "print(category_tree.head())"
      ],
      "metadata": {
        "colab": {
          "base_uri": "https://localhost:8080/"
        },
        "id": "IOyqspIftARG",
        "outputId": "1f9b25d2-edcf-4abe-c18e-5a719e79168f"
      },
      "execution_count": 3,
      "outputs": [
        {
          "output_type": "stream",
          "name": "stdout",
          "text": [
            "Events DataFrame:\n",
            "shape: (5, 5)\n",
            "┌───────────────┬───────────┬───────┬────────┬───────────────┐\n",
            "│ timestamp     ┆ visitorid ┆ event ┆ itemid ┆ transactionid │\n",
            "│ ---           ┆ ---       ┆ ---   ┆ ---    ┆ ---           │\n",
            "│ i64           ┆ i64       ┆ str   ┆ i64    ┆ str           │\n",
            "╞═══════════════╪═══════════╪═══════╪════════╪═══════════════╡\n",
            "│ 1433221332117 ┆ 257597    ┆ view  ┆ 355908 ┆ null          │\n",
            "│ 1433224214164 ┆ 992329    ┆ view  ┆ 248676 ┆ null          │\n",
            "│ 1433221999827 ┆ 111016    ┆ view  ┆ 318965 ┆ null          │\n",
            "│ 1433221955914 ┆ 483717    ┆ view  ┆ 253185 ┆ null          │\n",
            "│ 1433221337106 ┆ 951259    ┆ view  ┆ 367447 ┆ null          │\n",
            "└───────────────┴───────────┴───────┴────────┴───────────────┘\n",
            "\n",
            "Category Tree DataFrame:\n",
            "shape: (5, 2)\n",
            "┌────────────┬──────────┐\n",
            "│ categoryid ┆ parentid │\n",
            "│ ---        ┆ ---      │\n",
            "│ i64        ┆ i64      │\n",
            "╞════════════╪══════════╡\n",
            "│ 1016       ┆ 213      │\n",
            "│ 809        ┆ 169      │\n",
            "│ 570        ┆ 9        │\n",
            "│ 1691       ┆ 885      │\n",
            "│ 536        ┆ 1691     │\n",
            "└────────────┴──────────┘\n"
          ]
        }
      ]
    },
    {
      "cell_type": "code",
      "source": [
        "print(events.schema, \"\\n\")\n",
        "print(category_tree.schema,  \"\\n\")\n",
        "print(item_properties.schema,  \"\\n\")"
      ],
      "metadata": {
        "colab": {
          "base_uri": "https://localhost:8080/"
        },
        "id": "9qwkeP0ctCZS",
        "outputId": "80454447-6ec6-45bc-cd73-c59a22738f37"
      },
      "execution_count": 4,
      "outputs": [
        {
          "output_type": "stream",
          "name": "stdout",
          "text": [
            "Schema([('timestamp', Int64), ('visitorid', Int64), ('event', String), ('itemid', Int64), ('transactionid', String)]) \n",
            "\n",
            "Schema([('categoryid', Int64), ('parentid', Int64)]) \n",
            "\n",
            "Schema([('timestamp', String), ('itemid', String), ('property', String), ('value', String)]) \n",
            "\n"
          ]
        }
      ]
    },
    {
      "cell_type": "code",
      "source": [
        "print(events.null_count())\n",
        "print(category_tree.null_count())\n",
        "print(item_properties.null_count())"
      ],
      "metadata": {
        "colab": {
          "base_uri": "https://localhost:8080/"
        },
        "id": "EBSWsWIetYa7",
        "outputId": "1abd9cf1-bbb2-4aaf-d1fd-8676a8de9a0c"
      },
      "execution_count": 5,
      "outputs": [
        {
          "output_type": "stream",
          "name": "stdout",
          "text": [
            "shape: (1, 5)\n",
            "┌───────────┬───────────┬───────┬────────┬───────────────┐\n",
            "│ timestamp ┆ visitorid ┆ event ┆ itemid ┆ transactionid │\n",
            "│ ---       ┆ ---       ┆ ---   ┆ ---    ┆ ---           │\n",
            "│ u32       ┆ u32       ┆ u32   ┆ u32    ┆ u32           │\n",
            "╞═══════════╪═══════════╪═══════╪════════╪═══════════════╡\n",
            "│ 0         ┆ 0         ┆ 0     ┆ 0      ┆ 2733644       │\n",
            "└───────────┴───────────┴───────┴────────┴───────────────┘\n",
            "shape: (1, 2)\n",
            "┌────────────┬──────────┐\n",
            "│ categoryid ┆ parentid │\n",
            "│ ---        ┆ ---      │\n",
            "│ u32        ┆ u32      │\n",
            "╞════════════╪══════════╡\n",
            "│ 0          ┆ 25       │\n",
            "└────────────┴──────────┘\n",
            "shape: (1, 4)\n",
            "┌───────────┬────────┬──────────┬───────┐\n",
            "│ timestamp ┆ itemid ┆ property ┆ value │\n",
            "│ ---       ┆ ---    ┆ ---      ┆ ---   │\n",
            "│ u32       ┆ u32    ┆ u32      ┆ u32   │\n",
            "╞═══════════╪════════╪══════════╪═══════╡\n",
            "│ 0         ┆ 0      ┆ 0        ┆ 0     │\n",
            "└───────────┴────────┴──────────┴───────┘\n"
          ]
        }
      ]
    },
    {
      "cell_type": "code",
      "source": [
        "events.describe()"
      ],
      "metadata": {
        "colab": {
          "base_uri": "https://localhost:8080/",
          "height": 400
        },
        "id": "7ZnOPdnFtrmh",
        "outputId": "da789740-b905-42a5-d1d4-d42be7f99868"
      },
      "execution_count": 6,
      "outputs": [
        {
          "output_type": "execute_result",
          "data": {
            "text/plain": [
              "shape: (9, 6)\n",
              "┌────────────┬────────────┬───────────────┬───────────┬───────────────┬───────────────┐\n",
              "│ statistic  ┆ timestamp  ┆ visitorid     ┆ event     ┆ itemid        ┆ transactionid │\n",
              "│ ---        ┆ ---        ┆ ---           ┆ ---       ┆ ---           ┆ ---           │\n",
              "│ str        ┆ f64        ┆ f64           ┆ str       ┆ f64           ┆ str           │\n",
              "╞════════════╪════════════╪═══════════════╪═══════════╪═══════════════╪═══════════════╡\n",
              "│ count      ┆ 2.756101e6 ┆ 2.756101e6    ┆ 2756101   ┆ 2.756101e6    ┆ 22457         │\n",
              "│ null_count ┆ 0.0        ┆ 0.0           ┆ 0         ┆ 0.0           ┆ 2733644       │\n",
              "│ mean       ┆ 1.4364e12  ┆ 701922.883229 ┆ null      ┆ 234922.478375 ┆ null          │\n",
              "│ std        ┆ 3.3663e9   ┆ 405687.520809 ┆ null      ┆ 134195.425214 ┆ null          │\n",
              "│ min        ┆ 1.4306e12  ┆ 0.0           ┆ addtocart ┆ 3.0           ┆ 0             │\n",
              "│ 25%        ┆ 1.4335e12  ┆ 350566.0      ┆ null      ┆ 118120.0      ┆ null          │\n",
              "│ 50%        ┆ 1.4365e12  ┆ 702060.0      ┆ null      ┆ 236067.0      ┆ null          │\n",
              "│ 75%        ┆ 1.4392e12  ┆ 1.053437e6    ┆ null      ┆ 350715.0      ┆ null          │\n",
              "│ max        ┆ 1.4425e12  ┆ 1.407579e6    ┆ view      ┆ 466867.0      ┆ 9999          │\n",
              "└────────────┴────────────┴───────────────┴───────────┴───────────────┴───────────────┘"
            ],
            "text/html": [
              "<div><style>\n",
              ".dataframe > thead > tr,\n",
              ".dataframe > tbody > tr {\n",
              "  text-align: right;\n",
              "  white-space: pre-wrap;\n",
              "}\n",
              "</style>\n",
              "<small>shape: (9, 6)</small><table border=\"1\" class=\"dataframe\"><thead><tr><th>statistic</th><th>timestamp</th><th>visitorid</th><th>event</th><th>itemid</th><th>transactionid</th></tr><tr><td>str</td><td>f64</td><td>f64</td><td>str</td><td>f64</td><td>str</td></tr></thead><tbody><tr><td>&quot;count&quot;</td><td>2.756101e6</td><td>2.756101e6</td><td>&quot;2756101&quot;</td><td>2.756101e6</td><td>&quot;22457&quot;</td></tr><tr><td>&quot;null_count&quot;</td><td>0.0</td><td>0.0</td><td>&quot;0&quot;</td><td>0.0</td><td>&quot;2733644&quot;</td></tr><tr><td>&quot;mean&quot;</td><td>1.4364e12</td><td>701922.883229</td><td>null</td><td>234922.478375</td><td>null</td></tr><tr><td>&quot;std&quot;</td><td>3.3663e9</td><td>405687.520809</td><td>null</td><td>134195.425214</td><td>null</td></tr><tr><td>&quot;min&quot;</td><td>1.4306e12</td><td>0.0</td><td>&quot;addtocart&quot;</td><td>3.0</td><td>&quot;0&quot;</td></tr><tr><td>&quot;25%&quot;</td><td>1.4335e12</td><td>350566.0</td><td>null</td><td>118120.0</td><td>null</td></tr><tr><td>&quot;50%&quot;</td><td>1.4365e12</td><td>702060.0</td><td>null</td><td>236067.0</td><td>null</td></tr><tr><td>&quot;75%&quot;</td><td>1.4392e12</td><td>1.053437e6</td><td>null</td><td>350715.0</td><td>null</td></tr><tr><td>&quot;max&quot;</td><td>1.4425e12</td><td>1.407579e6</td><td>&quot;view&quot;</td><td>466867.0</td><td>&quot;9999&quot;</td></tr></tbody></table></div>"
            ]
          },
          "metadata": {},
          "execution_count": 6
        }
      ]
    },
    {
      "cell_type": "code",
      "source": [
        "item_properties.describe()"
      ],
      "metadata": {
        "colab": {
          "base_uri": "https://localhost:8080/",
          "height": 400
        },
        "id": "tanRAGvYtx3U",
        "outputId": "877ac8eb-ca96-4f31-c33b-b66db362d0c8"
      },
      "execution_count": 7,
      "outputs": [
        {
          "output_type": "execute_result",
          "data": {
            "text/plain": [
              "shape: (9, 5)\n",
              "┌────────────┬───────────────┬──────────┬──────────┬──────────┐\n",
              "│ statistic  ┆ timestamp     ┆ itemid   ┆ property ┆ value    │\n",
              "│ ---        ┆ ---           ┆ ---      ┆ ---      ┆ ---      │\n",
              "│ str        ┆ str           ┆ str      ┆ str      ┆ str      │\n",
              "╞════════════╪═══════════════╪══════════╪══════════╪══════════╡\n",
              "│ count      ┆ 20275904      ┆ 20275904 ┆ 20275904 ┆ 20275904 │\n",
              "│ null_count ┆ 0             ┆ 0        ┆ 0        ┆ 0        │\n",
              "│ mean       ┆ null          ┆ null     ┆ null     ┆ null     │\n",
              "│ std        ┆ null          ┆ null     ┆ null     ┆ null     │\n",
              "│ min        ┆ 1431226800000 ┆ 0        ┆ 0        ┆ 0        │\n",
              "│ 25%        ┆ null          ┆ null     ┆ null     ┆ null     │\n",
              "│ 50%        ┆ null          ┆ null     ┆ null     ┆ null     │\n",
              "│ 75%        ┆ null          ┆ null     ┆ null     ┆ null     │\n",
              "│ max        ┆ timestamp     ┆ itemid   ┆ property ┆ value    │\n",
              "└────────────┴───────────────┴──────────┴──────────┴──────────┘"
            ],
            "text/html": [
              "<div><style>\n",
              ".dataframe > thead > tr,\n",
              ".dataframe > tbody > tr {\n",
              "  text-align: right;\n",
              "  white-space: pre-wrap;\n",
              "}\n",
              "</style>\n",
              "<small>shape: (9, 5)</small><table border=\"1\" class=\"dataframe\"><thead><tr><th>statistic</th><th>timestamp</th><th>itemid</th><th>property</th><th>value</th></tr><tr><td>str</td><td>str</td><td>str</td><td>str</td><td>str</td></tr></thead><tbody><tr><td>&quot;count&quot;</td><td>&quot;20275904&quot;</td><td>&quot;20275904&quot;</td><td>&quot;20275904&quot;</td><td>&quot;20275904&quot;</td></tr><tr><td>&quot;null_count&quot;</td><td>&quot;0&quot;</td><td>&quot;0&quot;</td><td>&quot;0&quot;</td><td>&quot;0&quot;</td></tr><tr><td>&quot;mean&quot;</td><td>null</td><td>null</td><td>null</td><td>null</td></tr><tr><td>&quot;std&quot;</td><td>null</td><td>null</td><td>null</td><td>null</td></tr><tr><td>&quot;min&quot;</td><td>&quot;1431226800000&quot;</td><td>&quot;0&quot;</td><td>&quot;0&quot;</td><td>&quot;0&quot;</td></tr><tr><td>&quot;25%&quot;</td><td>null</td><td>null</td><td>null</td><td>null</td></tr><tr><td>&quot;50%&quot;</td><td>null</td><td>null</td><td>null</td><td>null</td></tr><tr><td>&quot;75%&quot;</td><td>null</td><td>null</td><td>null</td><td>null</td></tr><tr><td>&quot;max&quot;</td><td>&quot;timestamp&quot;</td><td>&quot;itemid&quot;</td><td>&quot;property&quot;</td><td>&quot;value&quot;</td></tr></tbody></table></div>"
            ]
          },
          "metadata": {},
          "execution_count": 7
        }
      ]
    },
    {
      "cell_type": "code",
      "source": [
        "event_counts = events.group_by(\"event\").agg(pl.count(\"event\").alias(\"count\"))\n",
        "\n",
        "# Convert Polars DataFrame to Pandas DataFrame\n",
        "event_counts_df = event_counts.to_pandas()\n",
        "\n",
        "# Set Seaborn style\n",
        "sns.set(style=\"whitegrid\")\n",
        "\n",
        "# Create the bar plot\n",
        "plt.figure(figsize=(8, 6))\n",
        "sns.barplot(data=event_counts_df, x=\"event\", y=\"count\", palette=\"viridis\")\n",
        "\n",
        "# Add title and labels\n",
        "plt.title(\"Event Distribution\", fontsize=16)\n",
        "plt.xlabel(\"Event Type\", fontsize=12)\n",
        "plt.ylabel(\"Count\", fontsize=12)\n",
        "\n",
        "# Show the plot\n",
        "plt.show()"
      ],
      "metadata": {
        "colab": {
          "base_uri": "https://localhost:8080/",
          "height": 684
        },
        "id": "TroJfuPwt6YX",
        "outputId": "5cdbe38f-aec0-4863-d7cd-2d29f28d816b"
      },
      "execution_count": 8,
      "outputs": [
        {
          "output_type": "stream",
          "name": "stderr",
          "text": [
            "/tmp/ipython-input-8-1253706075.py:11: FutureWarning: \n",
            "\n",
            "Passing `palette` without assigning `hue` is deprecated and will be removed in v0.14.0. Assign the `x` variable to `hue` and set `legend=False` for the same effect.\n",
            "\n",
            "  sns.barplot(data=event_counts_df, x=\"event\", y=\"count\", palette=\"viridis\")\n"
          ]
        },
        {
          "output_type": "display_data",
          "data": {
            "text/plain": [
              "<Figure size 800x600 with 1 Axes>"
            ],
            "image/png": "[encoded data removed]"
          },
          "metadata": {}
        }
      ]
    },
    {
      "cell_type": "code",
      "source": [
        "total_views = events.filter(pl.col(\"event\") == \"view\").shape[0]\n",
        "\n",
        "# Step 2: Aggregate counts for all events\n",
        "event_counts = (\n",
        "    events.group_by(\"event\")\n",
        "    .agg(pl.count(\"event\").alias(\"count\"))\n",
        "    .with_columns(\n",
        "        # Step 3: Add percentage column\n",
        "        (pl.col(\"count\") / total_views * 100).alias(\"percent_of_purchases\")\n",
        "    )\n",
        ")\n",
        "\n",
        "\n",
        "print(event_counts)\n",
        "print( np.round( event_counts[\"percent_of_purchases\"], 2))"
      ],
      "metadata": {
        "colab": {
          "base_uri": "https://localhost:8080/"
        },
        "id": "f6qhb7Dtt86V",
        "outputId": "77af4fdc-2a80-4966-f913-b0f2c18fe42c"
      },
      "execution_count": 9,
      "outputs": [
        {
          "output_type": "stream",
          "name": "stdout",
          "text": [
            "shape: (3, 3)\n",
            "┌─────────────┬─────────┬──────────────────────┐\n",
            "│ event       ┆ count   ┆ percent_of_purchases │\n",
            "│ ---         ┆ ---     ┆ ---                  │\n",
            "│ str         ┆ u32     ┆ f64                  │\n",
            "╞═════════════╪═════════╪══════════════════════╡\n",
            "│ view        ┆ 2664312 ┆ 100.0                │\n",
            "│ transaction ┆ 22457   ┆ 0.842882             │\n",
            "│ addtocart   ┆ 69332   ┆ 2.602248             │\n",
            "└─────────────┴─────────┴──────────────────────┘\n",
            "[100.     0.84   2.6 ]\n"
          ]
        }
      ]
    },
    {
      "cell_type": "code",
      "source": [
        "print(events.columns)\n",
        "print(events.head())\n"
      ],
      "metadata": {
        "colab": {
          "base_uri": "https://localhost:8080/"
        },
        "id": "uoaAX-XsuHOP",
        "outputId": "f614e92d-22fc-48de-9c6f-391213b92120"
      },
      "execution_count": 10,
      "outputs": [
        {
          "output_type": "stream",
          "name": "stdout",
          "text": [
            "['timestamp', 'visitorid', 'event', 'itemid', 'transactionid']\n",
            "shape: (5, 5)\n",
            "┌───────────────┬───────────┬───────┬────────┬───────────────┐\n",
            "│ timestamp     ┆ visitorid ┆ event ┆ itemid ┆ transactionid │\n",
            "│ ---           ┆ ---       ┆ ---   ┆ ---    ┆ ---           │\n",
            "│ i64           ┆ i64       ┆ str   ┆ i64    ┆ str           │\n",
            "╞═══════════════╪═══════════╪═══════╪════════╪═══════════════╡\n",
            "│ 1433221332117 ┆ 257597    ┆ view  ┆ 355908 ┆ null          │\n",
            "│ 1433224214164 ┆ 992329    ┆ view  ┆ 248676 ┆ null          │\n",
            "│ 1433221999827 ┆ 111016    ┆ view  ┆ 318965 ┆ null          │\n",
            "│ 1433221955914 ┆ 483717    ┆ view  ┆ 253185 ┆ null          │\n",
            "│ 1433221337106 ┆ 951259    ┆ view  ┆ 367447 ┆ null          │\n",
            "└───────────────┴───────────┴───────┴────────┴───────────────┘\n"
          ]
        }
      ]
    },
    {
      "cell_type": "code",
      "source": [
        "# Rename for clarity: transaction = purchase\n",
        "purchase_events = events.filter(pl.col(\"event\") == \"transaction\")\n",
        "cart_events = events.filter(pl.col(\"event\") == \"addtocart\")\n",
        "view_events = events.filter(pl.col(\"event\") == \"view\")\n",
        "\n",
        "# Count of users who made purchases\n",
        "unique_buyers = purchase_events.select(\"visitorid\").n_unique()\n",
        "print(f\"🛍️ Unique buyers: {unique_buyers}\")\n",
        "print(\"🧾 Sample Purchase Events:\")\n",
        "print(purchase_events.head())\n"
      ],
      "metadata": {
        "colab": {
          "base_uri": "https://localhost:8080/"
        },
        "id": "K7e9SSJ1u01x",
        "outputId": "da73f8dd-b330-4562-ec0a-f4d29e9b982b"
      },
      "execution_count": 11,
      "outputs": [
        {
          "output_type": "stream",
          "name": "stdout",
          "text": [
            "🛍️ Unique buyers: 11719\n",
            "🧾 Sample Purchase Events:\n",
            "shape: (5, 5)\n",
            "┌───────────────┬───────────┬─────────────┬────────┬───────────────┐\n",
            "│ timestamp     ┆ visitorid ┆ event       ┆ itemid ┆ transactionid │\n",
            "│ ---           ┆ ---       ┆ ---         ┆ ---    ┆ ---           │\n",
            "│ i64           ┆ i64       ┆ str         ┆ i64    ┆ str           │\n",
            "╞═══════════════╪═══════════╪═════════════╪════════╪═══════════════╡\n",
            "│ 1433222276276 ┆ 599528    ┆ transaction ┆ 356475 ┆ 4000          │\n",
            "│ 1433193500981 ┆ 121688    ┆ transaction ┆ 15335  ┆ 11117         │\n",
            "│ 1433193915008 ┆ 552148    ┆ transaction ┆ 81345  ┆ 5444          │\n",
            "│ 1433176736375 ┆ 102019    ┆ transaction ┆ 150318 ┆ 13556         │\n",
            "│ 1433174518180 ┆ 189384    ┆ transaction ┆ 310791 ┆ 7244          │\n",
            "└───────────────┴───────────┴─────────────┴────────┴───────────────┘\n"
          ]
        }
      ]
    },
    {
      "cell_type": "code",
      "source": [
        "# Use `.len()` instead of `.count()` in Polars\n",
        "purchases_per_user = purchase_events.group_by(\"visitorid\").len().sort(\"len\", descending=True)\n",
        "\n",
        "print(\"📊 Top 10 users by purchase count:\")\n",
        "print(purchases_per_user.head(10))\n",
        "\n",
        "\n"
      ],
      "metadata": {
        "colab": {
          "base_uri": "https://localhost:8080/"
        },
        "id": "ldzwnIgBu9YF",
        "outputId": "b148ad40-9cf7-44bf-c6ba-fd028eeaac7d"
      },
      "execution_count": 12,
      "outputs": [
        {
          "output_type": "stream",
          "name": "stdout",
          "text": [
            "📊 Top 10 users by purchase count:\n",
            "shape: (10, 2)\n",
            "┌───────────┬─────┐\n",
            "│ visitorid ┆ len │\n",
            "│ ---       ┆ --- │\n",
            "│ i64       ┆ u32 │\n",
            "╞═══════════╪═════╡\n",
            "│ 1150086   ┆ 559 │\n",
            "│ 152963    ┆ 349 │\n",
            "│ 530559    ┆ 286 │\n",
            "│ 684514    ┆ 189 │\n",
            "│ 861299    ┆ 188 │\n",
            "│ 76757     ┆ 185 │\n",
            "│ 138131    ┆ 173 │\n",
            "│ 890980    ┆ 145 │\n",
            "│ 1297062   ┆ 136 │\n",
            "│ 247235    ┆ 132 │\n",
            "└───────────┴─────┘\n"
          ]
        }
      ]
    },
    {
      "cell_type": "code",
      "source": [
        "# View events\n",
        "views_per_user = view_events.group_by(\"visitorid\").len().rename({\"len\": \"views\"})\n",
        "\n",
        "# Cart events\n",
        "carts_per_user = cart_events.group_by(\"visitorid\").len().rename({\"len\": \"carts\"})\n",
        "\n",
        "# Purchase events\n",
        "purchases_per_user = purchase_events.group_by(\"visitorid\").len().rename({\"len\": \"purchases\"})\n",
        "\n",
        "# Join all three into a user activity dataset\n",
        "# Updated joins using `how='full'` and clean up duplicate visitorid columns\n",
        "user_activity = views_per_user.join(carts_per_user, on=\"visitorid\", how=\"full\") \\\n",
        "                              .join(purchases_per_user, on=\"visitorid\", how=\"full\") \\\n",
        "                              .fill_null(0)\n",
        "\n",
        "# Ensure only one 'visitorid' column remains (drop any `_right`)\n",
        "user_activity = user_activity.select([\n",
        "    pl.col(\"visitorid\"),\n",
        "    pl.col(\"views\"),\n",
        "    pl.col(\"carts\"),\n",
        "    pl.col(\"purchases\")\n",
        "])\n",
        "\n",
        "print(\"🧠 Cleaned User Activity Profile:\")\n",
        "print(user_activity.head())\n",
        "\n"
      ],
      "metadata": {
        "colab": {
          "base_uri": "https://localhost:8080/"
        },
        "id": "-qWP-yL1v6tm",
        "outputId": "281db2b4-68f7-4d58-cc88-9a9bd889f6a4"
      },
      "execution_count": 13,
      "outputs": [
        {
          "output_type": "stream",
          "name": "stdout",
          "text": [
            "🧠 Cleaned User Activity Profile:\n",
            "shape: (5, 4)\n",
            "┌───────────┬───────┬───────┬───────────┐\n",
            "│ visitorid ┆ views ┆ carts ┆ purchases │\n",
            "│ ---       ┆ ---   ┆ ---   ┆ ---       │\n",
            "│ i64       ┆ u32   ┆ u32   ┆ u32       │\n",
            "╞═══════════╪═══════╪═══════╪═══════════╡\n",
            "│ 753608    ┆ 1     ┆ 0     ┆ 0         │\n",
            "│ 1088026   ┆ 3     ┆ 0     ┆ 0         │\n",
            "│ 622168    ┆ 1     ┆ 0     ┆ 0         │\n",
            "│ 360580    ┆ 1     ┆ 0     ┆ 0         │\n",
            "│ 216741    ┆ 1     ┆ 0     ┆ 0         │\n",
            "└───────────┴───────┴───────┴───────────┘\n"
          ]
        }
      ]
    },
    {
      "cell_type": "code",
      "source": [
        "user_activity = user_activity.with_columns([\n",
        "    (pl.col(\"carts\") / pl.col(\"views\")).alias(\"view_to_cart_rate\"),\n",
        "    (pl.col(\"purchases\") / pl.col(\"carts\")).alias(\"cart_to_purchase_rate\"),\n",
        "    (pl.col(\"purchases\") / pl.col(\"views\")).alias(\"view_to_purchase_rate\")\n",
        "])\n"
      ],
      "metadata": {
        "id": "15aPQH8-xd5P"
      },
      "execution_count": 14,
      "outputs": []
    },
    {
      "cell_type": "code",
      "source": [
        "print(\"📈 User Conversion Rate Preview:\")\n",
        "print(user_activity.head(10))\n"
      ],
      "metadata": {
        "colab": {
          "base_uri": "https://localhost:8080/"
        },
        "id": "YnzxPwB9xftM",
        "outputId": "fd870bf9-c134-4b4d-fcfc-6aed011c9c66"
      },
      "execution_count": 15,
      "outputs": [
        {
          "output_type": "stream",
          "name": "stdout",
          "text": [
            "📈 User Conversion Rate Preview:\n",
            "shape: (10, 7)\n",
            "┌───────────┬───────┬───────┬───────────┬───────────────────┬───────────────────┬──────────────────┐\n",
            "│ visitorid ┆ views ┆ carts ┆ purchases ┆ view_to_cart_rate ┆ cart_to_purchase_ ┆ view_to_purchase │\n",
            "│ ---       ┆ ---   ┆ ---   ┆ ---       ┆ ---               ┆ rate              ┆ _rate            │\n",
            "│ i64       ┆ u32   ┆ u32   ┆ u32       ┆ f64               ┆ ---               ┆ ---              │\n",
            "│           ┆       ┆       ┆           ┆                   ┆ f64               ┆ f64              │\n",
            "╞═══════════╪═══════╪═══════╪═══════════╪═══════════════════╪═══════════════════╪══════════════════╡\n",
            "│ 753608    ┆ 1     ┆ 0     ┆ 0         ┆ 0.0               ┆ NaN               ┆ 0.0              │\n",
            "│ 1088026   ┆ 3     ┆ 0     ┆ 0         ┆ 0.0               ┆ NaN               ┆ 0.0              │\n",
            "│ 622168    ┆ 1     ┆ 0     ┆ 0         ┆ 0.0               ┆ NaN               ┆ 0.0              │\n",
            "│ 360580    ┆ 1     ┆ 0     ┆ 0         ┆ 0.0               ┆ NaN               ┆ 0.0              │\n",
            "│ 216741    ┆ 1     ┆ 0     ┆ 0         ┆ 0.0               ┆ NaN               ┆ 0.0              │\n",
            "│ 5244      ┆ 1     ┆ 0     ┆ 0         ┆ 0.0               ┆ NaN               ┆ 0.0              │\n",
            "│ 301195    ┆ 1     ┆ 0     ┆ 0         ┆ 0.0               ┆ NaN               ┆ 0.0              │\n",
            "│ 1402707   ┆ 5     ┆ 1     ┆ 0         ┆ 0.2               ┆ 0.0               ┆ 0.0              │\n",
            "│ 756663    ┆ 1     ┆ 0     ┆ 0         ┆ 0.0               ┆ NaN               ┆ 0.0              │\n",
            "│ 628000    ┆ 1     ┆ 0     ┆ 0         ┆ 0.0               ┆ NaN               ┆ 0.0              │\n",
            "└───────────┴───────┴───────┴───────────┴───────────────────┴───────────────────┴──────────────────┘\n"
          ]
        }
      ]
    },
    {
      "cell_type": "code",
      "source": [
        "average_rates = user_activity.select([\n",
        "    pl.mean(\"view_to_cart_rate\").alias(\"avg_view_to_cart\"),\n",
        "    pl.mean(\"cart_to_purchase_rate\").alias(\"avg_cart_to_purchase\"),\n",
        "    pl.mean(\"view_to_purchase_rate\").alias(\"avg_view_to_purchase\")\n",
        "])\n",
        "print(\"📊 Average Conversion Rates:\")\n",
        "print(average_rates)\n"
      ],
      "metadata": {
        "colab": {
          "base_uri": "https://localhost:8080/"
        },
        "id": "NG0mfKOGxol7",
        "outputId": "ecc2bb3a-3f6b-4241-b31d-40be018531b0"
      },
      "execution_count": 16,
      "outputs": [
        {
          "output_type": "stream",
          "name": "stdout",
          "text": [
            "📊 Average Conversion Rates:\n",
            "shape: (1, 3)\n",
            "┌──────────────────┬──────────────────────┬──────────────────────┐\n",
            "│ avg_view_to_cart ┆ avg_cart_to_purchase ┆ avg_view_to_purchase │\n",
            "│ ---              ┆ ---                  ┆ ---                  │\n",
            "│ f64              ┆ f64                  ┆ f64                  │\n",
            "╞══════════════════╪══════════════════════╪══════════════════════╡\n",
            "│ NaN              ┆ NaN                  ┆ NaN                  │\n",
            "└──────────────────┴──────────────────────┴──────────────────────┘\n"
          ]
        }
      ]
    },
    {
      "cell_type": "markdown",
      "source": [
        "# BUILDING DATASET FOR MODEL TRAINING\n"
      ],
      "metadata": {
        "id": "matt42aJzugi"
      }
    },
    {
      "cell_type": "code",
      "source": [
        "# Step 1: Group and rename counts properly\n",
        "views_per_user = view_events.group_by(\"visitorid\").len().rename({\"len\": \"views\"})\n",
        "carts_per_user = cart_events.group_by(\"visitorid\").len().rename({\"len\": \"carts\"})\n",
        "purchases_per_user = purchase_events.group_by(\"visitorid\").len().rename({\"len\": \"purchases\"})\n",
        "\n"
      ],
      "metadata": {
        "id": "LsZED-HDz0Mo"
      },
      "execution_count": 17,
      "outputs": []
    },
    {
      "cell_type": "code",
      "source": [
        "user_activity = views_per_user.join(carts_per_user, on=\"visitorid\", how=\"full\") \\\n",
        "                              .join(purchases_per_user, on=\"visitorid\", how=\"full\") \\\n",
        "                              .fill_null(0)\n"
      ],
      "metadata": {
        "id": "PIIHR67f0COB"
      },
      "execution_count": 18,
      "outputs": []
    },
    {
      "cell_type": "code",
      "source": [
        "user_activity = user_activity.with_columns([\n",
        "    (pl.col(\"carts\") / pl.col(\"views\")).alias(\"view_to_cart_rate\"),\n",
        "    (pl.col(\"purchases\") / pl.col(\"carts\")).alias(\"cart_to_purchase_rate\"),\n",
        "    (pl.col(\"purchases\") / pl.col(\"views\")).alias(\"view_to_purchase_rate\")\n",
        "])\n"
      ],
      "metadata": {
        "id": "fF81b6_40FSX"
      },
      "execution_count": 19,
      "outputs": []
    },
    {
      "cell_type": "code",
      "source": [
        "# Fill NaN conversion rates with -1 to indicate missing funnel stage\n",
        "user_activity = user_activity.with_columns([\n",
        "    pl.when(pl.col(\"carts\") == 0).then(-1).otherwise(pl.col(\"view_to_cart_rate\")).alias(\"view_to_cart_rate\"),\n",
        "    pl.when(pl.col(\"purchases\") == 0).then(-1).otherwise(pl.col(\"cart_to_purchase_rate\")).alias(\"cart_to_purchase_rate\"),\n",
        "    pl.when(pl.col(\"purchases\") == 0).then(-1).otherwise(pl.col(\"view_to_purchase_rate\")).alias(\"view_to_purchase_rate\")\n",
        "])\n"
      ],
      "metadata": {
        "id": "vptZzEvr1DYE"
      },
      "execution_count": 20,
      "outputs": []
    },
    {
      "cell_type": "code",
      "source": [
        "user_labeled = user_activity.with_columns([\n",
        "    (\n",
        "        ((pl.col(\"view_to_cart_rate\") >= 0) & (pl.col(\"view_to_cart_rate\") < 0.2)) |\n",
        "        ((pl.col(\"cart_to_purchase_rate\") >= 0) & (pl.col(\"cart_to_purchase_rate\") < 0.3))\n",
        "    ).cast(pl.Int8).alias(\"low_conversion_label\")\n",
        "])\n"
      ],
      "metadata": {
        "id": "gJ9PlNcv1I33"
      },
      "execution_count": 21,
      "outputs": []
    },
    {
      "cell_type": "code",
      "source": [
        "print(user_labeled.head())"
      ],
      "metadata": {
        "colab": {
          "base_uri": "https://localhost:8080/"
        },
        "id": "8f6LybhS1RbQ",
        "outputId": "487eee3b-8d02-4fa4-d49d-96a83bf036ff"
      },
      "execution_count": 22,
      "outputs": [
        {
          "output_type": "stream",
          "name": "stdout",
          "text": [
            "shape: (5, 10)\n",
            "┌───────────┬───────┬─────────────┬───────┬───┬─────────────┬────────────┬────────────┬────────────┐\n",
            "│ visitorid ┆ views ┆ visitorid_r ┆ carts ┆ … ┆ view_to_car ┆ cart_to_pu ┆ view_to_pu ┆ low_conver │\n",
            "│ ---       ┆ ---   ┆ ight        ┆ ---   ┆   ┆ t_rate      ┆ rchase_rat ┆ rchase_rat ┆ sion_label │\n",
            "│ i64       ┆ u32   ┆ ---         ┆ u32   ┆   ┆ ---         ┆ e          ┆ e          ┆ ---        │\n",
            "│           ┆       ┆ i64         ┆       ┆   ┆ f64         ┆ ---        ┆ ---        ┆ i8         │\n",
            "│           ┆       ┆             ┆       ┆   ┆             ┆ f64        ┆ f64        ┆            │\n",
            "╞═══════════╪═══════╪═════════════╪═══════╪═══╪═════════════╪════════════╪════════════╪════════════╡\n",
            "│ 309130    ┆ 3     ┆ 0           ┆ 0     ┆ … ┆ -1.0        ┆ -1.0       ┆ -1.0       ┆ 0          │\n",
            "│ 284313    ┆ 2     ┆ 0           ┆ 0     ┆ … ┆ -1.0        ┆ -1.0       ┆ -1.0       ┆ 0          │\n",
            "│ 894047    ┆ 1     ┆ 0           ┆ 0     ┆ … ┆ -1.0        ┆ -1.0       ┆ -1.0       ┆ 0          │\n",
            "│ 833981    ┆ 2     ┆ 0           ┆ 0     ┆ … ┆ -1.0        ┆ -1.0       ┆ -1.0       ┆ 0          │\n",
            "│ 1062180   ┆ 2     ┆ 0           ┆ 0     ┆ … ┆ -1.0        ┆ -1.0       ┆ -1.0       ┆ 0          │\n",
            "└───────────┴───────┴─────────────┴───────┴───┴─────────────┴────────────┴────────────┴────────────┘\n"
          ]
        }
      ]
    },
    {
      "cell_type": "code",
      "source": [
        "user_labeled.write_csv(\"/content/user_behavior_ml_dataset.csv\")\n"
      ],
      "metadata": {
        "id": "Y6DEKoPW1X6D"
      },
      "execution_count": 23,
      "outputs": []
    },
    {
      "cell_type": "code",
      "source": [
        "# Step 1: Filter item_properties where property == \"category\"\n",
        "category_props = item_properties.filter(pl.col(\"property\") == \"category\")\n",
        "\n",
        "# Step 2: Cast value to int and fix itemid type\n",
        "category_props = category_props.with_columns([\n",
        "    pl.col(\"itemid\").cast(pl.Int64, strict=False),\n",
        "    pl.col(\"value\").cast(pl.Int64, strict=False).alias(\"categoryid\")\n",
        "])\n",
        "\n",
        "# Step 3: Join view_events with category_props to get category ID\n",
        "views_with_category_id = view_events.join(\n",
        "    category_props.select([\"itemid\", \"categoryid\"]), on=\"itemid\", how=\"inner\"\n",
        ")\n",
        "\n",
        "# Step 4: Optional – join with category_tree to get category name\n",
        "views_with_category = views_with_category_id.join(category_tree, on=\"categoryid\", how=\"left\")\n"
      ],
      "metadata": {
        "id": "yQpJP-aM4VBv"
      },
      "execution_count": 25,
      "outputs": []
    },
    {
      "cell_type": "code",
      "source": [
        "most_viewed_category = views_with_category.group_by([\"visitorid\", \"categoryid\"]).len() \\\n",
        "    .sort(\"len\", descending=True).group_by(\"visitorid\").first() \\\n",
        "    .select([\"visitorid\", \"categoryid\"]) \\\n",
        "    .rename({\"categoryid\": \"most_viewed_category\"})\n"
      ],
      "metadata": {
        "id": "EEU7O3ql414F"
      },
      "execution_count": 26,
      "outputs": []
    },
    {
      "cell_type": "code",
      "source": [
        "# ✅ Unique items viewed per user\n",
        "unique_items_viewed = view_events.group_by(\"visitorid\").agg([\n",
        "    pl.col(\"itemid\").n_unique().alias(\"unique_items_viewed\")\n",
        "])\n",
        "\n",
        "# ✅ Unique items purchased per user\n",
        "unique_items_purchased = purchase_events.group_by(\"visitorid\").agg([\n",
        "    pl.col(\"itemid\").n_unique().alias(\"unique_items_purchased\")\n",
        "])\n"
      ],
      "metadata": {
        "id": "WpxrFbGy46Vi"
      },
      "execution_count": 27,
      "outputs": []
    },
    {
      "cell_type": "code",
      "source": [
        "user_enriched = user_labeled \\\n",
        "    .join(unique_items_viewed, on=\"visitorid\", how=\"left\") \\\n",
        "    .join(unique_items_purchased, on=\"visitorid\", how=\"left\") \\\n",
        "    .join(most_viewed_category, on=\"visitorid\", how=\"left\") \\\n",
        "    .fill_null(0)\n"
      ],
      "metadata": {
        "id": "ALbZr7zi5Mam"
      },
      "execution_count": 28,
      "outputs": []
    },
    {
      "cell_type": "code",
      "source": [
        "user_enriched.write_csv(\"/content/user_behavior_enriched_ml_dataset.csv\")\n"
      ],
      "metadata": {
        "id": "6ZKJt-oR5xPG"
      },
      "execution_count": 29,
      "outputs": []
    }
  ],
  "metadata": {
    "kernelspec": {
      "display_name": "venv",
      "language": "python",
      "name": "python3"
    },
    "language_info": {
      "codemirror_mode": {
        "name": "ipython",
        "version": 3
      },
      "file_extension": ".py",
      "mimetype": "text/x-python",
      "name": "python",
      "nbconvert_exporter": "python",
      "pygments_lexer": "ipython3",
      "version": "3.13.5"
    },
    "colab": {
      "provenance": [],
      "include_colab_link": true
    }
  },
  "nbformat": 4,
  "nbformat_minor": 0
}